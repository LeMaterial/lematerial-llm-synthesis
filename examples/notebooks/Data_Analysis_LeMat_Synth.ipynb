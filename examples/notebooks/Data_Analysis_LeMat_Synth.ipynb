{
 "cells": [
  {
   "cell_type": "markdown",
   "id": "0",
   "metadata": {
    "id": "611431b4"
   },
   "source": [
    "# **LeMaterial/LeMat-Synth Dataset Analysis**\n"
   ]
  },
  {
   "cell_type": "markdown",
   "id": "1",
   "metadata": {
    "id": "bjdLvWqn9Qsn"
   },
   "source": [
    "This notebook is a data analysis of LeMaterial/LeMat-Synth dataset\n"
   ]
  },
  {
   "cell_type": "markdown",
   "id": "2",
   "metadata": {
    "id": "ZusQk8gFcE3Q"
   },
   "source": [
    "## **Available Dataset Splits**\n",
    "\n",
    "- **arxiv**: ArXiv research papers\n",
    "- **chemrxiv**: ChemRxiv chemistry papers\n",
    "- **omg24**: OMG24 conference papers\n",
    "- **sample_for_evaluation**: Evaluation samples\n"
   ]
  },
  {
   "cell_type": "markdown",
   "id": "3",
   "metadata": {
    "id": "28022a9c"
   },
   "source": [
    "## **Load libraries**\n"
   ]
  },
  {
   "cell_type": "code",
   "execution_count": null,
   "id": "4",
   "metadata": {
    "id": "466351f3"
   },
   "outputs": [],
   "source": [
    "# Import required libraries\n",
    "import ast\n",
    "import json\n",
    "import re\n",
    "import warnings\n",
    "from collections import Counter\n",
    "\n",
    "import matplotlib.pyplot as plt\n",
    "import pandas as pd\n",
    "import plotly.express as px\n",
    "import seaborn as sns\n",
    "from wordcloud import WordCloud\n",
    "\n",
    "from llm_synthesis.utils.style_utils import set_style\n",
    "\n",
    "set_style()\n",
    "\n",
    "warnings.filterwarnings(\"ignore\")\n",
    "\n",
    "# Remove the limit from the number of displayed columns and rows. It helps to see the entire dataframe while printing it\n",
    "pd.set_option(\"display.max_columns\", None)\n",
    "pd.set_option(\"display.max_rows\", None)"
   ]
  },
  {
   "cell_type": "markdown",
   "id": "5",
   "metadata": {
    "id": "a057afb2"
   },
   "source": [
    "## **Data set exploration**\n"
   ]
  },
  {
   "cell_type": "markdown",
   "id": "6",
   "metadata": {
    "id": "oghk3moqQ-fs"
   },
   "source": [
    "### **Understand the data**\n"
   ]
  },
  {
   "cell_type": "markdown",
   "id": "7",
   "metadata": {
    "id": "ZbVDu4Y1aaWF"
   },
   "source": [
    "Create new column 'source'\n"
   ]
  },
  {
   "cell_type": "markdown",
   "id": "8",
   "metadata": {
    "id": "3aOOslsbciNi"
   },
   "source": [
    "Examine the columns, data types, and basic statistics.\n"
   ]
  },
  {
   "cell_type": "code",
   "execution_count": null,
   "id": "9",
   "metadata": {
    "id": "4cc11389"
   },
   "outputs": [],
   "source": [
    "from datasets import load_dataset\n",
    "\n",
    "dataset = load_dataset(\"LeMaterial/LeMat-Synth\", split=\"sample_for_evaluation\")\n",
    "\n",
    "data = dataset.to_pandas()\n",
    "data.head()"
   ]
  },
  {
   "cell_type": "code",
   "execution_count": null,
   "id": "10",
   "metadata": {
    "colab": {
     "base_uri": "https://localhost:8080/"
    },
    "id": "jRDZk_edaZGj",
    "outputId": "efb4d4f3-3249-4fdd-f112-73047e0caeb4"
   },
   "outputs": [],
   "source": [
    "# Extract the domain name from the URL\n",
    "data[\"source\"] = data[\"paper_url\"].astype(str).str.extract(r\"//([^/]+)\")\n",
    "\n",
    "# Cleaning: remove extensions\n",
    "data[\"source\"] = (\n",
    "    data[\"source\"]\n",
    "    .str.replace(r\"^www\\.\", \"\", regex=True)\n",
    "    .str.replace(r\"^onlinelibrary\\.\", \"\", regex=True)\n",
    "    .str.replace(r\"^link\\.\", \"\", regex=True)\n",
    "    .str.replace(r\"\\.org$|\\.com$|\\.net$|\\.edu$|\\.info$\", \"\", regex=True)\n",
    ")\n",
    "\n",
    "print(data[[\"paper_url\", \"source\"]].head())"
   ]
  },
  {
   "cell_type": "code",
   "execution_count": null,
   "id": "11",
   "metadata": {
    "colab": {
     "base_uri": "https://localhost:8080/"
    },
    "id": "gDdONMRYmGpZ",
    "outputId": "5faba26e-42a4-484f-9467-c00786f742ea"
   },
   "outputs": [],
   "source": [
    "print(data.shape)"
   ]
  },
  {
   "cell_type": "code",
   "execution_count": null,
   "id": "12",
   "metadata": {
    "colab": {
     "base_uri": "https://localhost:8080/"
    },
    "id": "8f05f5a8",
    "outputId": "647a8974-30be-46b7-e43c-6e347bafc537"
   },
   "outputs": [],
   "source": [
    "# Check the datatypes of each column.\n",
    "data.info()"
   ]
  },
  {
   "cell_type": "code",
   "execution_count": null,
   "id": "13",
   "metadata": {
    "colab": {
     "base_uri": "https://localhost:8080/",
     "height": 300
    },
    "id": "AntfBPSfQuMd",
    "outputId": "5de4551f-7da2-46df-f3d0-997520ba94ff"
   },
   "outputs": [],
   "source": [
    "# Numerical statistics\n",
    "data.describe()"
   ]
  },
  {
   "cell_type": "markdown",
   "id": "14",
   "metadata": {
    "id": "kKXkcQYf-PbC"
   },
   "source": [
    "### **Handle missing values**\n"
   ]
  },
  {
   "cell_type": "markdown",
   "id": "15",
   "metadata": {
    "id": "2qf-EAZ3-TTr"
   },
   "source": [
    "Identify and address any missing values in the DataFrame.\n"
   ]
  },
  {
   "cell_type": "code",
   "execution_count": null,
   "id": "16",
   "metadata": {
    "colab": {
     "base_uri": "https://localhost:8080/"
    },
    "id": "uSK-RftW-dVl",
    "outputId": "57d29cf0-946c-44d1-a5b2-4140e6072f38"
   },
   "outputs": [],
   "source": [
    "missing_percentages = data.isnull().sum()\n",
    "print(\"Percentage of missing values per column:\")\n",
    "print(missing_percentages)\n",
    "if \"images\" in data.columns:\n",
    "    data = data.drop(\"images\", axis=1)\n",
    "    print(\"\\n'images' column dropped.\")\n",
    "\n",
    "# Fill remaining missing values with \"N/A\"\n",
    "data = data.fillna(\"N/A\")\n",
    "print(\"\\nRemaining missing values filled with 'N/A'.\")\n",
    "\n",
    "# Verify that there are no more missing values\n",
    "print(\"\\nMissing values after handling:\")\n",
    "print(data.isnull().sum().sum())"
   ]
  },
  {
   "cell_type": "code",
   "execution_count": null,
   "id": "17",
   "metadata": {},
   "outputs": [],
   "source": [
    "# drop all rows where synthesized_material == \"No materials synthesized\"\n",
    "data = data[data[\"synthesized_material\"] != \"No materials synthesized\"]"
   ]
  },
  {
   "cell_type": "markdown",
   "id": "18",
   "metadata": {
    "id": "83f2aa89"
   },
   "source": [
    "## **Data Visualisation**\n"
   ]
  },
  {
   "cell_type": "markdown",
   "id": "19",
   "metadata": {
    "id": "NRkaOk55HD4-"
   },
   "source": [
    "Create visualizations to understand the distribution and relationships within the data.\n"
   ]
  },
  {
   "cell_type": "markdown",
   "id": "20",
   "metadata": {
    "id": "a2a360cb"
   },
   "source": [
    "### **Summary statistics of all categorical variables**\n"
   ]
  },
  {
   "cell_type": "code",
   "execution_count": null,
   "id": "21",
   "metadata": {
    "colab": {
     "base_uri": "https://localhost:8080/",
     "height": 247
    },
    "id": "f8e2aedf",
    "outputId": "112dd10b-0213-4f7b-be19-3d2fdc1a6885"
   },
   "outputs": [],
   "source": [
    "# Explore basic summary statistics of categorical variables.\n",
    "data.describe(include=[\"object\"])"
   ]
  },
  {
   "cell_type": "markdown",
   "id": "22",
   "metadata": {
    "id": "pkl27wAhyuR-"
   },
   "source": [
    "### **Word cloud of actions**\n"
   ]
  },
  {
   "cell_type": "code",
   "execution_count": null,
   "id": "23",
   "metadata": {
    "colab": {
     "base_uri": "https://localhost:8080/",
     "height": 562
    },
    "id": "V_xSyd0syw28",
    "outputId": "af531473-8b04-4c26-f223-ea11c9cf3404"
   },
   "outputs": [],
   "source": [
    "# Extracting the actions from each step (simplified loop)\n",
    "actions = []\n",
    "for idx, raw in enumerate(data[\"structured_synthesis\"]):\n",
    "    try:\n",
    "        record = json.loads(raw) if isinstance(raw, str) else raw\n",
    "        for step in record.get(\"steps\", []):\n",
    "            action = step.get(\"action\")\n",
    "            if isinstance(action, str) and action:\n",
    "                actions.append(action)\n",
    "    except (json.JSONDecodeError, TypeError):\n",
    "        continue\n",
    "\n",
    "print(f\"Total actions extracted: {len(actions)}\")\n",
    "\n",
    "# Frequency calculation\n",
    "freq = Counter(actions)\n",
    "\n",
    "# Preparation and generation of the word cloud\n",
    "if freq:\n",
    "    wc = WordCloud(\n",
    "        width=800,\n",
    "        height=400,\n",
    "        background_color=\"white\",\n",
    "        colormap=\"tab10\",\n",
    "        relative_scaling=0.5,\n",
    "        normalize_plurals=False,\n",
    "    )\n",
    "    wc.generate_from_frequencies(freq)\n",
    "\n",
    "    # Display\n",
    "    plt.figure(figsize=(12, 6))\n",
    "    plt.imshow(wc, interpolation=\"bilinear\")\n",
    "    plt.axis(\"off\")\n",
    "    plt.title(\n",
    "        \"Word cloud of summary actions (size ∝ frequency))\", fontsize=18, pad=20\n",
    "    )\n",
    "    plt.show()\n",
    "else:\n",
    "    print(\"No actions found to generate a word cloud.\")"
   ]
  },
  {
   "cell_type": "code",
   "execution_count": null,
   "id": "24",
   "metadata": {},
   "outputs": [],
   "source": [
    "# Create bar plot sorted by frequency (descending order)\n",
    "plt.figure(figsize=(30, 6))\n",
    "\n",
    "sorted_categories = sorted(freq.keys(), key=freq.get, reverse=True)\n",
    "\n",
    "sns.barplot(x=list(freq.keys()), y=list(freq.values()), order=sorted_categories)\n",
    "plt.xticks(rotation=45, ha=\"right\")\n",
    "plt.xlabel(\"Materials/Processes\")\n",
    "plt.ylabel(\"Frequency\")\n",
    "plt.title(\"Frequency of Synthesized Materials (Using order parameter)\")\n",
    "plt.tight_layout()\n",
    "plt.show()"
   ]
  },
  {
   "cell_type": "code",
   "execution_count": null,
   "id": "25",
   "metadata": {},
   "outputs": [],
   "source": [
    "plt.figure(figsize=(12, 6))\n",
    "\n",
    "# Sort by frequency (descending) - most frequent first\n",
    "sorted_items = freq.most_common()\n",
    "categories = [item[0] for item in sorted_items]\n",
    "values = [item[1] for item in sorted_items]\n",
    "\n",
    "sns.barplot(x=categories, y=values)\n",
    "plt.xticks(rotation=45, ha=\"right\")  # ha='right' for better alignment\n",
    "plt.xlabel(\"Materials/Processes\")\n",
    "plt.ylabel(\"Frequency\")\n",
    "plt.title(\"Frequency of Synthesized Materials (Sorted by Frequency)\")\n",
    "plt.tight_layout()  # Prevents label cutoff\n",
    "plt.show()"
   ]
  },
  {
   "cell_type": "markdown",
   "id": "26",
   "metadata": {
    "id": "2KqdyH6lTNAp"
   },
   "source": [
    "### **Distribution of source**\n"
   ]
  },
  {
   "cell_type": "code",
   "execution_count": null,
   "id": "27",
   "metadata": {
    "colab": {
     "base_uri": "https://localhost:8080/",
     "height": 564
    },
    "id": "pvFjl0CtHL7t",
    "outputId": "b06313e6-8319-4919-e13a-21ee95b4f4aa"
   },
   "outputs": [],
   "source": [
    "# Create a countplot of the 'source' column\n",
    "plt.figure(figsize=(8, 6))\n",
    "sns.countplot(data=data, x=\"source\")\n",
    "plt.title(\"Distribution of Data Sources\")\n",
    "plt.show()"
   ]
  },
  {
   "cell_type": "code",
   "execution_count": null,
   "id": "28",
   "metadata": {
    "colab": {
     "base_uri": "https://localhost:8080/",
     "height": 366
    },
    "id": "AAjaRr_xRiY5",
    "outputId": "93e5a3c0-63c4-4598-b90d-49d8a65a85a3"
   },
   "outputs": [],
   "source": [
    "data[\"source\"].value_counts()"
   ]
  },
  {
   "cell_type": "markdown",
   "id": "29",
   "metadata": {
    "id": "7yZxXRbaIUf8"
   },
   "source": [
    "### **Top of synthetized materials**\n"
   ]
  },
  {
   "cell_type": "code",
   "execution_count": null,
   "id": "30",
   "metadata": {
    "colab": {
     "base_uri": "https://localhost:8080/",
     "height": 707
    },
    "id": "u3qLDAl6qLVk",
    "outputId": "f75a1ab9-1032-47ec-ca1a-e219644cb5ee"
   },
   "outputs": [],
   "source": [
    "# Simple cleaning function\n",
    "def clean_material(material):\n",
    "    if isinstance(material, str):\n",
    "        material = re.sub(r\"[^a-zA-Z0-9\\s]\", \"\", material).strip().capitalize()\n",
    "        # Exclude generic terms, missing values, and \"No materials synthesized\"\n",
    "        if material.lower() not in [\n",
    "            \"na\",\n",
    "            \"n/a\",\n",
    "            \"other\",\n",
    "            \"others\",\n",
    "            \"no materials synthesized\",\n",
    "        ]:\n",
    "            return material\n",
    "    return None\n",
    "\n",
    "\n",
    "# Apply cleaning to 'synthesized_material'\n",
    "data[\"cleaned_synthesized_material\"] = data[\"synthesized_material\"].apply(\n",
    "    clean_material\n",
    ")\n",
    "\n",
    "# Count the occurrences of valid synthesized materials\n",
    "material_counts = Counter(data[\"cleaned_synthesized_material\"].dropna())\n",
    "\n",
    "# Convert to DataFrame for visualisation\n",
    "df_materials = pd.DataFrame(\n",
    "    material_counts.most_common(15), columns=[\"Synthesized Material\", \"Count\"]\n",
    ")\n",
    "\n",
    "# Displaying with Seaborn\n",
    "plt.figure(figsize=(12, 7))\n",
    "sns.barplot(data=df_materials, x=\"Count\", y=\"Synthesized Material\")\n",
    "plt.title(\"Top 15 Most Frequent Synthesized Materials\")\n",
    "plt.xlabel(\"Number of Occurrences\")\n",
    "plt.ylabel(\"Synthesized Material\")\n",
    "plt.tight_layout()\n",
    "plt.show()"
   ]
  },
  {
   "cell_type": "markdown",
   "id": "31",
   "metadata": {
    "id": "TVQeQtR8Tmgb"
   },
   "source": [
    "### **Frenquency of material categories**\n"
   ]
  },
  {
   "cell_type": "code",
   "execution_count": null,
   "id": "32",
   "metadata": {
    "colab": {
     "base_uri": "https://localhost:8080/",
     "height": 707
    },
    "id": "8Hczvb7rMOKg",
    "outputId": "e2e27b3c-1220-411e-c9a4-32b33141871b"
   },
   "outputs": [],
   "source": [
    "# Simplified function for cleaning a single category\n",
    "def clean_category(cat):\n",
    "    if isinstance(cat, str):\n",
    "        cat = re.sub(r\"[^a-zA-Z0-9\\s]\", \"\", cat).strip()\n",
    "        cat = cat.capitalize()\n",
    "        if cat.lower() not in [\n",
    "            \"material\",\n",
    "            \"science\",\n",
    "            \"others\",\n",
    "            \"n/a\",\n",
    "            \"other\",\n",
    "            \"na\",\n",
    "        ]:  # Filters out irrelevant cases\n",
    "            return cat\n",
    "    return None\n",
    "\n",
    "\n",
    "# Apply cleaning\n",
    "data[\"cleaned_category\"] = data[\"material_category\"].apply(clean_category)\n",
    "\n",
    "# Count the occurrences of valid categories\n",
    "category_counts = Counter(data[\"cleaned_category\"].dropna())\n",
    "\n",
    "# Convert to DataFrame for visualisation\n",
    "df_categories = pd.DataFrame(\n",
    "    category_counts.most_common(15), columns=[\"Category\", \"Count\"]\n",
    ")\n",
    "\n",
    "# Displaying with Seaborn\n",
    "plt.figure(figsize=(12, 7))\n",
    "sns.barplot(data=df_categories, x=\"Count\", y=\"Category\")\n",
    "plt.title(\"Top 15 Material Categories\")\n",
    "plt.xlabel(\"Number of Occurrences\")\n",
    "plt.ylabel(\"Category\")\n",
    "plt.tight_layout()\n",
    "plt.show()"
   ]
  },
  {
   "cell_type": "code",
   "execution_count": null,
   "id": "33",
   "metadata": {
    "colab": {
     "base_uri": "https://localhost:8080/",
     "height": 542
    },
    "id": "EGlmlKv4nUHn",
    "outputId": "3f3009c6-6598-4671-8f3b-c1b72cf22f0e"
   },
   "outputs": [],
   "source": [
    "# Combine categories from all sources with category data\n",
    "all_categories = []\n",
    "# Using the main 'data' DataFrame and iterating through rows\n",
    "if \"data\" in globals():\n",
    "    for index, row in data.iterrows():\n",
    "        # Use the cleaned categories if available, otherwise clean them here\n",
    "        categories = row.get(\"cleaned_categories\")\n",
    "        if categories is None or not isinstance(categories, list):\n",
    "            # If not available or not a list, clean from the original 'categories' column\n",
    "            # Re-using the cleaning logic from elsewhere for consistency\n",
    "            def clean_single_category_entry(categories_list):\n",
    "                cleaned = []\n",
    "                if isinstance(categories_list, str):\n",
    "                    try:\n",
    "                        categories_list = ast.literal_eval(categories_list)\n",
    "                    except (ValueError, SyntaxError):\n",
    "                        categories_list = [categories_list]\n",
    "\n",
    "                if isinstance(categories_list, list):\n",
    "                    for category in categories_list:\n",
    "                        if isinstance(category, str):\n",
    "                            for part in category.split(\",\"):\n",
    "                                for sub_part in part.split(\";\"):\n",
    "                                    cleaned_category = sub_part.strip()\n",
    "                                    if cleaned_category:\n",
    "                                        cleaned.append(cleaned_category)\n",
    "                return cleaned\n",
    "\n",
    "            categories = clean_single_category_entry(row[\"material_category\"])\n",
    "\n",
    "        # Filter out 'N/A', 'Other', 'Others', 'NA' (case-insensitive)\n",
    "        filtered_categories = [\n",
    "            cat\n",
    "            for cat in categories\n",
    "            if isinstance(cat, str)\n",
    "            and cat.lower() not in [\"n/a\", \"other\", \"others\", \"na\"]\n",
    "        ]\n",
    "        all_categories.extend(filtered_categories)\n",
    "\n",
    "if all_categories:\n",
    "    # Count the frequency of each category\n",
    "    category_counts = Counter(all_categories)\n",
    "    category_df = pd.DataFrame(\n",
    "        category_counts.items(), columns=[\"Category\", \"Count\"]\n",
    "    )\n",
    "\n",
    "    # Create a treemap\n",
    "    fig = px.treemap(\n",
    "        category_df,\n",
    "        path=[\"Category\"],\n",
    "        values=\"Count\",\n",
    "        title=\"Interactive Treemap of Material Categories\",\n",
    "    )\n",
    "    fig.show()\n",
    "else:\n",
    "    print(\"No category data available to create a treemap after filtering.\")"
   ]
  },
  {
   "cell_type": "markdown",
   "id": "34",
   "metadata": {
    "id": "wNbEjdlVb1Qy"
   },
   "source": [
    "### **Top of synthesis methods**\n"
   ]
  },
  {
   "cell_type": "code",
   "execution_count": null,
   "id": "35",
   "metadata": {
    "colab": {
     "base_uri": "https://localhost:8080/",
     "height": 707
    },
    "id": "OW9D6xmub5Ce",
    "outputId": "66afce3f-1170-4948-9924-7800886fad33"
   },
   "outputs": [],
   "source": [
    "# Apply cleaning to 'synthesis_method'\n",
    "data[\"cleaned_synthesis_method\"] = data[\"synthesis_method\"].apply(\n",
    "    clean_category\n",
    ")\n",
    "\n",
    "# Count the occurrences of valid synthesis methods\n",
    "method_counts = Counter(data[\"cleaned_synthesis_method\"].dropna())\n",
    "\n",
    "# Convert to DataFrame for visualisation\n",
    "df_methods = pd.DataFrame(\n",
    "    method_counts.most_common(15), columns=[\"Method\", \"Count\"]\n",
    ")\n",
    "\n",
    "# Displaying with Seaborn\n",
    "plt.figure(figsize=(12, 7))\n",
    "sns.barplot(data=df_methods, x=\"Count\", y=\"Method\")\n",
    "plt.title(\"Top 15 Synthesis Methods\")\n",
    "plt.xlabel(\"Number of Occurrences\")\n",
    "plt.ylabel(\"Method\")\n",
    "plt.tight_layout()\n",
    "plt.show()"
   ]
  },
  {
   "cell_type": "markdown",
   "id": "36",
   "metadata": {
    "id": "QQ3WBbd_IIxT"
   },
   "source": [
    "## **Advanced data exploration**\n"
   ]
  },
  {
   "cell_type": "markdown",
   "id": "37",
   "metadata": {
    "id": "xmdjZ3QYIRI6"
   },
   "source": [
    "Perform a deeper dive into the dataset by exploring relationships between columns.\n"
   ]
  },
  {
   "cell_type": "markdown",
   "id": "38",
   "metadata": {
    "id": "p1SXNrEIa0BK"
   },
   "source": [
    "### **Correlation between synthesized materials and material categories**\n"
   ]
  },
  {
   "cell_type": "code",
   "execution_count": null,
   "id": "39",
   "metadata": {
    "colab": {
     "base_uri": "https://localhost:8080/",
     "height": 807
    },
    "id": "JLlvwW_Csg-F",
    "outputId": "6b4626b3-6681-4bb6-ef13-c01b410fa2bd"
   },
   "outputs": [],
   "source": [
    "# Easy cleaning\n",
    "def clean(text):\n",
    "    if isinstance(text, str):\n",
    "        text = re.sub(r\"[^a-zA-Z0-9\\s]\", \"\", text).strip().capitalize()\n",
    "        if text.lower() not in [\n",
    "            \"material\",\n",
    "            \"science\",\n",
    "            \"others\",\n",
    "            \"other\",\n",
    "            \"n/a\",\n",
    "            \"na\",\n",
    "        ]:\n",
    "            return text\n",
    "    return None\n",
    "\n",
    "\n",
    "# Clean both columns\n",
    "data[\"clean_material\"] = data[\"material_category\"].apply(clean)\n",
    "data[\"clean_synth\"] = data[\"synthesized_material\"].apply(clean)\n",
    "\n",
    "# Delete rows where either of the two is empty\n",
    "df = data.dropna(subset=[\"clean_material\", \"clean_synth\"])\n",
    "\n",
    "# Group and count pairs\n",
    "grouped = (\n",
    "    df.groupby([\"clean_synth\", \"clean_material\"])\n",
    "    .size()\n",
    "    .reset_index(name=\"count\")\n",
    ")\n",
    "\n",
    "# Choose the best synthesised materials to avoid overload\n",
    "top_synths = (\n",
    "    grouped.groupby(\"clean_synth\")[\"count\"]\n",
    "    .sum()\n",
    "    .sort_values(ascending=False)\n",
    "    .head(15)\n",
    "    .index\n",
    ")\n",
    "filtered = grouped[grouped[\"clean_synth\"].isin(top_synths)]\n",
    "\n",
    "# Grouped plot\n",
    "plt.figure(figsize=(16, 8))\n",
    "sns.barplot(\n",
    "    data=filtered,\n",
    "    x=\"clean_synth\",\n",
    "    y=\"count\",\n",
    "    hue=\"clean_material\",\n",
    "    palette=\"tab10\",\n",
    "    dodge=False,\n",
    ")\n",
    "\n",
    "plt.title(\"Top 15 Synthesized Materials by Material Category\")\n",
    "plt.xlabel(\"Synthesized Material\")\n",
    "plt.ylabel(\"Number of Occurrences\")\n",
    "plt.xticks(rotation=90, ha=\"center\")\n",
    "\n",
    "plt.legend(\n",
    "    title=\"Material Category\", bbox_to_anchor=(1.05, 1), loc=\"upper left\"\n",
    ")\n",
    "plt.tight_layout()\n",
    "plt.show()"
   ]
  },
  {
   "cell_type": "markdown",
   "id": "40",
   "metadata": {
    "id": "dMbgFbJMfB14"
   },
   "source": [
    "### **Correlation between synthesized materials and synthesis methods**\n"
   ]
  },
  {
   "cell_type": "code",
   "execution_count": null,
   "id": "41",
   "metadata": {
    "colab": {
     "base_uri": "https://localhost:8080/",
     "height": 1000
    },
    "id": "zIFW7wJw8Wta",
    "outputId": "7ee9a32e-f5fe-412d-e447-d90679ddfff2"
   },
   "outputs": [],
   "source": [
    "data[\"clean_method\"] = data[\"synthesis_method\"].apply(clean)\n",
    "\n",
    "# Create a crosstab (pivot table)\n",
    "pivot_table = pd.crosstab(data[\"clean_synth\"], data[\"clean_method\"])\n",
    "\n",
    "# Get the top 15 most synthesized materials\n",
    "top_synths = pivot_table.sum(axis=1).sort_values(ascending=False).head(15).index\n",
    "\n",
    "# Filter the pivot table to include only the top 15 materials\n",
    "filtered_pivot_table = pivot_table.loc[top_synths]\n",
    "\n",
    "# Display as a heatmap\n",
    "plt.figure(figsize=(16, 10))\n",
    "sns.heatmap(filtered_pivot_table, linewidths=0.5, annot=False)\n",
    "plt.title(\"Heatmap: Top 15 Synthesized Materials vs Synthesis Method\")\n",
    "plt.xlabel(\"Synthesis Method\")\n",
    "plt.ylabel(\"Synthesized Material\")\n",
    "plt.tight_layout()\n",
    "plt.show()"
   ]
  },
  {
   "cell_type": "code",
   "execution_count": null,
   "id": "42",
   "metadata": {
    "colab": {
     "base_uri": "https://localhost:8080/",
     "height": 807
    },
    "id": "BEViXQUMd06-",
    "outputId": "509293d9-c758-4d24-8b98-c8958cb1f780"
   },
   "outputs": [],
   "source": [
    "# Delete rows where either of the two is empty\n",
    "df = data.dropna(subset=[\"clean_method\", \"clean_synth\"])\n",
    "\n",
    "# Group and count pairs\n",
    "grouped = (\n",
    "    df.groupby([\"clean_synth\", \"clean_method\"]).size().reset_index(name=\"count\")\n",
    ")\n",
    "\n",
    "# Choose the best synthesised materials to avoid overload\n",
    "top_synths = (\n",
    "    grouped.groupby(\"clean_synth\")[\"count\"]\n",
    "    .sum()\n",
    "    .sort_values(ascending=False)\n",
    "    .head(15)\n",
    "    .index\n",
    ")\n",
    "filtered = grouped[grouped[\"clean_synth\"].isin(top_synths)]\n",
    "\n",
    "# 1. Pivot the data to a \"wide\" format suitable for stacking\n",
    "pivot_df = filtered.pivot_table(\n",
    "    index=\"clean_synth\",\n",
    "    columns=\"clean_method\",\n",
    "    values=\"count\",\n",
    "    fill_value=0,  # Fills in 0 for any material/method pair that doesn't exist\n",
    ")\n",
    "\n",
    "# 2. Reorder the data to match the top 15 sorted list\n",
    "pivot_df = pivot_df.reindex(top_synths)\n",
    "\n",
    "# 3. Create the stacked bar plot from the new pivoted DataFrame\n",
    "ax = pivot_df.plot(\n",
    "    kind=\"bar\", stacked=True, figsize=(16, 8), width=0.8, colormap=\"tab20\"\n",
    ")\n",
    "\n",
    "plt.title(\"Top 15 Synthesized Materials by Synthesis Methods\", fontsize=16)\n",
    "plt.xlabel(\"Synthesized Material\", fontsize=12)\n",
    "plt.ylabel(\"Number of Occurrences\", fontsize=12)\n",
    "plt.xticks(rotation=45, ha=\"right\")\n",
    "plt.legend(\n",
    "    title=\"Synthesis Methods\", bbox_to_anchor=(1.02, 1), loc=\"upper left\"\n",
    ")\n",
    "plt.tight_layout()\n",
    "plt.show()"
   ]
  },
  {
   "cell_type": "code",
   "execution_count": null,
   "id": "43",
   "metadata": {
    "colab": {
     "base_uri": "https://localhost:8080/",
     "height": 807
    },
    "id": "nL1nQKfgXFpo",
    "outputId": "0dce0030-5d3e-4454-ecc4-402cb2d95c3f"
   },
   "outputs": [],
   "source": [
    "# --- TRANSFORMATION TO INVERTED STACKED CHART ---\n",
    "\n",
    "# 1. Invert the pivot table 🔄\n",
    "# The methods are now the rows (x-axis) and materials are the columns (legend).\n",
    "pivot_df_swapped = filtered.pivot_table(\n",
    "    index=\"clean_method\", columns=\"clean_synth\", values=\"count\", fill_value=0\n",
    ")\n",
    "\n",
    "# 2. Optional but recommended: Sort the methods by total occurrences\n",
    "method_order = pivot_df_swapped.sum(axis=1).sort_values(ascending=False).index\n",
    "pivot_df_swapped = pivot_df_swapped.reindex(method_order)\n",
    "\n",
    "\n",
    "# 3. Create the stacked bar plot from the new pivoted DataFrame\n",
    "ax = pivot_df_swapped.plot(\n",
    "    kind=\"bar\", stacked=True, figsize=(16, 8), width=0.8, colormap=\"tab20\"\n",
    ")\n",
    "\n",
    "plt.title(\"Composition of Top 15 Materials by Synthesis Method\", fontsize=16)\n",
    "plt.xlabel(\"Synthesis Method\", fontsize=12)\n",
    "plt.ylabel(\"Number of Occurrences\", fontsize=12)\n",
    "plt.xticks(rotation=90, ha=\"center\")\n",
    "plt.legend(\n",
    "    title=\"Synthesized Material\", bbox_to_anchor=(1.02, 1), loc=\"upper left\"\n",
    ")\n",
    "plt.tight_layout()\n",
    "plt.show()"
   ]
  },
  {
   "cell_type": "markdown",
   "id": "44",
   "metadata": {
    "id": "1dxJTiFeIU5l"
   },
   "source": [
    "### **Synthesis Methods by source**\n"
   ]
  },
  {
   "cell_type": "code",
   "execution_count": null,
   "id": "45",
   "metadata": {
    "colab": {
     "base_uri": "https://localhost:8080/",
     "height": 807
    },
    "id": "g-QjAQzDDDPy",
    "outputId": "2105db40-07fd-47be-a17d-336bed3b6f2f"
   },
   "outputs": [],
   "source": [
    "# Clean synthesis methods\n",
    "def clean_method(method):\n",
    "    if isinstance(method, str):\n",
    "        method = re.sub(r\"[^a-zA-Z0-9\\s]\", \"\", method).strip().capitalize()\n",
    "        if method.lower() not in [\"na\", \"n/a\", \"other\", \"others\"]:\n",
    "            return method\n",
    "    return None\n",
    "\n",
    "\n",
    "# Clean source names\n",
    "data[\"clean_method\"] = data[\"synthesis_method\"].apply(clean_method)\n",
    "data[\"clean_source\"] = (\n",
    "    data[\"source\"]\n",
    "    .astype(str)\n",
    "    .str.replace(\n",
    "        r\"^www\\.|^onlinelibrary\\.|\\.(org|com|net|edu|info)$\", \"\", regex=True\n",
    "    )\n",
    ")\n",
    "\n",
    "# Drop rows with missing values\n",
    "df = data.dropna(subset=[\"clean_method\", \"clean_source\"])\n",
    "\n",
    "# Group and count occurrences\n",
    "grouped = (\n",
    "    df.groupby([\"clean_method\", \"clean_source\"])\n",
    "    .size()\n",
    "    .reset_index(name=\"count\")\n",
    ")\n",
    "\n",
    "# --- FILTERING AND PIVOTING ---\n",
    "\n",
    "# 1. Identify top 10 most common methods\n",
    "top_methods_order = (\n",
    "    grouped.groupby(\"clean_method\")[\"count\"]\n",
    "    .sum()\n",
    "    .sort_values(ascending=False)\n",
    "    .head(10)\n",
    "    .index\n",
    ")\n",
    "\n",
    "# 2. Filter to top methods only\n",
    "filtered = grouped[grouped[\"clean_method\"].isin(top_methods_order)]\n",
    "\n",
    "# 3. Pivot to wide format (methods as rows, sources as columns)\n",
    "pivot_df = filtered.pivot_table(\n",
    "    index=\"clean_method\", columns=\"clean_source\", values=\"count\", fill_value=0\n",
    ")\n",
    "\n",
    "# 4. Reorder methods in the DataFrame\n",
    "pivot_df = pivot_df.reindex(top_methods_order)\n",
    "\n",
    "# --- PLOTTING STACKED BAR CHART ---\n",
    "\n",
    "# Create the stacked bar plot\n",
    "ax = pivot_df.plot(\n",
    "    kind=\"bar\", stacked=True, figsize=(16, 8), width=0.8, colormap=\"Set2\"\n",
    ")\n",
    "\n",
    "# Add labels and styling\n",
    "plt.title(\"Top 10 Synthesis Methods by Source\", fontsize=16)\n",
    "plt.xlabel(\"Synthesis Method\", fontsize=12)\n",
    "plt.ylabel(\"Number of Publications\", fontsize=12)\n",
    "plt.xticks(rotation=90, ha=\"center\")\n",
    "plt.legend(title=\"Source\", bbox_to_anchor=(1.02, 1), loc=\"upper left\")\n",
    "plt.tight_layout()\n",
    "plt.show()"
   ]
  },
  {
   "cell_type": "code",
   "execution_count": null,
   "id": "46",
   "metadata": {
    "colab": {
     "base_uri": "https://localhost:8080/",
     "height": 487
    },
    "id": "ELSYOC9XDg6N",
    "outputId": "a41a379c-fe30-4c79-c69d-7aec9a5d8d41"
   },
   "outputs": [],
   "source": [
    "data[\"clean_method\"] = data[\"synthesis_method\"].apply(clean_method)\n",
    "data[\"clean_source\"] = (\n",
    "    data[\"source\"]\n",
    "    .astype(str)\n",
    "    .str.replace(\n",
    "        r\"^www\\.|^onlinelibrary\\.|\\.(org|com|net|edu|info)$\", \"\", regex=True\n",
    "    )\n",
    ")\n",
    "\n",
    "df = data.dropna(subset=[\"clean_method\", \"clean_source\"])\n",
    "grouped = (\n",
    "    df.groupby([\"clean_method\", \"clean_source\"])\n",
    "    .size()\n",
    "    .reset_index(name=\"count\")\n",
    ")\n",
    "\n",
    "# 1. We still identify the top 10 overall methods to keep the chart focused\n",
    "top_methods_order = (\n",
    "    grouped.groupby(\"clean_method\")[\"count\"]\n",
    "    .sum()\n",
    "    .sort_values(ascending=False)\n",
    "    .head(10)\n",
    "    .index\n",
    ")\n",
    "\n",
    "# 2. Filter data to include only publications using one of these top 10 methods\n",
    "filtered = grouped[grouped[\"clean_method\"].isin(top_methods_order)]\n",
    "\n",
    "# 3. Invert the pivot table 🔄\n",
    "# Now, the sources are the rows (index) and the methods are the columns.\n",
    "pivot_df_swapped = filtered.pivot_table(\n",
    "    index=\"clean_source\", columns=\"clean_method\", values=\"count\", fill_value=0\n",
    ")\n",
    "\n",
    "# 4. Optional but recommended: Sort the sources by total number of publications\n",
    "source_order = pivot_df_swapped.sum(axis=1).sort_values(ascending=False).index\n",
    "pivot_df_swapped = pivot_df_swapped.reindex(source_order)\n",
    "\n",
    "\n",
    "# 5. Plot the inverted data as a stacked bar chart\n",
    "ax = pivot_df_swapped.plot()\n",
    "kind = (\"bar\",)\n",
    "stacked = (True,)\n",
    "figsize = ((16, 8),)\n",
    "width = (0.8,)\n",
    "colormap = \"tab20\"\n",
    "\n",
    "# Styling the plot with updated labels\n",
    "plt.title(\"Composition of Top 10 Synthesis Methods by Source\", fontsize=16)\n",
    "plt.xlabel(\"Source\", fontsize=12)\n",
    "plt.ylabel(\"Number of Publications\", fontsize=12)\n",
    "plt.xticks(rotation=45, ha=\"right\")\n",
    "plt.legend(title=\"Synthesis Method\", bbox_to_anchor=(1.02, 1), loc=\"upper left\")\n",
    "plt.tight_layout()\n",
    "plt.show()"
   ]
  },
  {
   "cell_type": "markdown",
   "id": "47",
   "metadata": {
    "id": "7kMGcYuAIKSg"
   },
   "source": [
    "### **Synthesized Materials by source**\n"
   ]
  },
  {
   "cell_type": "code",
   "execution_count": null,
   "id": "48",
   "metadata": {
    "colab": {
     "base_uri": "https://localhost:8080/",
     "height": 807
    },
    "id": "J-LjvWoKIORW",
    "outputId": "b18adc96-0052-4b73-cb73-024525e049c2"
   },
   "outputs": [],
   "source": [
    "# Clean synthesis methods\n",
    "def clean_synth(synth):\n",
    "    if isinstance(synth, str):\n",
    "        synth = re.sub(r\"[^a-zA-Z0-9\\s]\", \"\", synth).strip().capitalize()\n",
    "        if synth.lower() not in [\"na\", \"n/a\", \"other\", \"others\"]:\n",
    "            return synth\n",
    "    return None\n",
    "\n",
    "\n",
    "# Clean source names\n",
    "data[\"clean_synth\"] = data[\"synthesized_material\"].apply(clean_synth)\n",
    "data[\"clean_source\"] = (\n",
    "    data[\"source\"]\n",
    "    .astype(str)\n",
    "    .str.replace(\n",
    "        r\"^www\\.|^onlinelibrary\\.|\\.(org|com|net|edu|info)$\", \"\", regex=True\n",
    "    )\n",
    ")\n",
    "\n",
    "# Drop rows with missing values\n",
    "df = data.dropna(subset=[\"clean_synth\", \"clean_source\"])\n",
    "\n",
    "# Group and count occurrences\n",
    "grouped = (\n",
    "    df.groupby([\"clean_synth\", \"clean_source\"]).size().reset_index(name=\"count\")\n",
    ")\n",
    "\n",
    "# --- FILTERING AND PIVOTING ---\n",
    "\n",
    "# 1. Identify top 10 most common synthesized materials\n",
    "top_synth_order = (\n",
    "    grouped.groupby(\"clean_synth\")[\"count\"]\n",
    "    .sum()\n",
    "    .sort_values(ascending=False)\n",
    "    .head(10)\n",
    "    .index\n",
    ")\n",
    "\n",
    "# 2. Filter to top synthesized materials only\n",
    "filtered = grouped[grouped[\"clean_synth\"].isin(top_synth_order)]\n",
    "\n",
    "# 3. Pivot to wide format (synthesized materials as rows, sources as columns)\n",
    "pivot_df = filtered.pivot_table(\n",
    "    index=\"clean_synth\", columns=\"clean_source\", values=\"count\", fill_value=0\n",
    ")\n",
    "\n",
    "# 4. Reorder synthesized materials in the DataFrame\n",
    "pivot_df = pivot_df.reindex(top_synth_order)\n",
    "\n",
    "# Create the stacked bar plot\n",
    "ax = pivot_df.plot(\n",
    "    kind=\"bar\", stacked=True, figsize=(16, 8), width=0.8, colormap=\"Set2\"\n",
    ")\n",
    "\n",
    "# Add labels and styling\n",
    "plt.title(\"Top 10 Synthesized Materials by Source\", fontsize=16)\n",
    "plt.xlabel(\"Synthesized Materials\", fontsize=12)\n",
    "plt.ylabel(\"Number of Publications\", fontsize=12)\n",
    "plt.xticks(rotation=90, ha=\"center\")\n",
    "plt.legend(title=\"Source\", bbox_to_anchor=(1.02, 1), loc=\"upper left\")\n",
    "plt.tight_layout()\n",
    "plt.show()"
   ]
  },
  {
   "cell_type": "code",
   "execution_count": null,
   "id": "49",
   "metadata": {
    "colab": {
     "base_uri": "https://localhost:8080/",
     "height": 487
    },
    "id": "wwUPrb6xNpih",
    "outputId": "e9090d5e-7234-4fea-c6f9-a9a2e6b319bc"
   },
   "outputs": [],
   "source": [
    "data[\"clean_synth\"] = data[\"synthesized_material\"].apply(clean_synth)\n",
    "data[\"clean_source\"] = (\n",
    "    data[\"source\"]\n",
    "    .astype(str)\n",
    "    .str.replace(\n",
    "        r\"^www\\.|^onlinelibrary\\.|\\.(org|com|net|edu|info)$\", \"\", regex=True\n",
    "    )\n",
    ")\n",
    "\n",
    "df = data.dropna(subset=[\"clean_synth\", \"clean_source\"])\n",
    "grouped = (\n",
    "    df.groupby([\"clean_synth\", \"clean_source\"]).size().reset_index(name=\"count\")\n",
    ")\n",
    "\n",
    "# 1. We still identify the top 10 overall methods to keep the chart focused\n",
    "top_synth_order = (\n",
    "    grouped.groupby(\"clean_synth\")[\"count\"]\n",
    "    .sum()\n",
    "    .sort_values(ascending=False)\n",
    "    .head(10)\n",
    "    .index\n",
    ")\n",
    "\n",
    "# 2. Filter data to include only publications using one of these top 10 methods\n",
    "filtered = grouped[grouped[\"clean_synth\"].isin(top_synth_order)]\n",
    "\n",
    "# 3. Invert the pivot table 🔄\n",
    "# Now, the sources are the rows (index) and the synthesized materials are the columns.\n",
    "pivot_df_swapped = filtered.pivot_table(\n",
    "    index=\"clean_source\", columns=\"clean_synth\", values=\"count\", fill_value=0\n",
    ")\n",
    "\n",
    "# 4. Optional but recommended: Sort the sources by total number of publications\n",
    "source_order = pivot_df_swapped.sum(axis=1).sort_values(ascending=False).index\n",
    "pivot_df_swapped = pivot_df_swapped.reindex(source_order)\n",
    "\n",
    "\n",
    "# 5. Plot the inverted data as a stacked bar chart\n",
    "ax = pivot_df_swapped.plot()\n",
    "kind = (\"bar\",)\n",
    "stacked = (True,)\n",
    "figsize = ((16, 8),)\n",
    "width = (0.8,)\n",
    "colormap = \"tab20\"\n",
    "\n",
    "# Styling the plot with labels\n",
    "plt.title(\"Composition of Top 10 Synthesized Materials by Source\", fontsize=16)\n",
    "plt.xlabel(\"Source\", fontsize=12)\n",
    "plt.ylabel(\"Number of Publications\", fontsize=12)\n",
    "plt.xticks(rotation=45, ha=\"right\")\n",
    "plt.legend(\n",
    "    title=\"Synthesized Materials\", bbox_to_anchor=(1.02, 1), loc=\"upper left\"\n",
    ")\n",
    "plt.tight_layout()\n",
    "plt.show()"
   ]
  }
 ],
 "metadata": {
  "accelerator": "TPU",
  "colab": {
   "gpuType": "V28",
   "provenance": []
  },
  "kernelspec": {
   "display_name": ".venv",
   "language": "python",
   "name": "python3"
  },
  "language_info": {
   "codemirror_mode": {
    "name": "ipython",
    "version": 3
   },
   "file_extension": ".py",
   "mimetype": "text/x-python",
   "name": "python",
   "nbconvert_exporter": "python",
   "pygments_lexer": "ipython3",
   "version": "3.11.12"
  }
 },
 "nbformat": 4,
 "nbformat_minor": 5
}
