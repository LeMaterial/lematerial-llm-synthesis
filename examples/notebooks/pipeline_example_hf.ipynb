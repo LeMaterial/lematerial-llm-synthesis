{
 "cells": [
  {
   "cell_type": "code",
   "execution_count": null,
   "metadata": {},
   "outputs": [],
   "source": [
    "%load_ext autoreload\n",
    "%autoreload 2"
   ]
  },
  {
   "cell_type": "code",
   "execution_count": null,
   "metadata": {},
   "outputs": [],
   "source": [
    "from datasets import load_dataset\n",
    "\n",
    "dataset = load_dataset(\"LeMaterial/LeMat-Synth\")\n",
    "\n",
    "dataset"
   ]
  },
  {
   "cell_type": "code",
   "execution_count": null,
   "metadata": {},
   "outputs": [],
   "source": [
    "dataset_papers = load_dataset(\n",
    "    \"LeMaterial/LeMat-Synth-Papers\", split=\"sample_for_evaluation\"\n",
    ")\n",
    "\n",
    "dataset_papers"
   ]
  },
  {
   "cell_type": "code",
   "execution_count": null,
   "metadata": {},
   "outputs": [],
   "source": [
    "df_papers = dataset_papers.to_pandas()\n",
    "\n",
    "df_papers"
   ]
  },
  {
   "cell_type": "code",
   "execution_count": null,
   "metadata": {},
   "outputs": [],
   "source": [
    "ds = dataset[\"sample_for_evaluation\"]\n",
    "\n",
    "ds"
   ]
  },
  {
   "cell_type": "code",
   "execution_count": null,
   "metadata": {},
   "outputs": [],
   "source": [
    "df = ds.to_pandas()\n",
    "\n",
    "df"
   ]
  },
  {
   "cell_type": "code",
   "execution_count": null,
   "metadata": {},
   "outputs": [],
   "source": [
    "# give doi of row where id=2212.12506\n",
    "doi = df_papers[df_papers[\"id\"] == \"2212.12506\"][\"doi\"]\n",
    "doi = doi.iloc[0]\n",
    "\n",
    "# give index of row in df where paper_doi=doi\n",
    "sample = df[df[\"paper_doi\"] == doi].iloc[0]\n",
    "\n",
    "# give row where index=idx\n",
    "sample"
   ]
  },
  {
   "cell_type": "code",
   "execution_count": null,
   "metadata": {},
   "outputs": [],
   "source": [
    "# sample = df.iloc[0]\n",
    "\n",
    "# sample"
   ]
  },
  {
   "cell_type": "code",
   "execution_count": null,
   "metadata": {},
   "outputs": [],
   "source": [
    "from IPython.display import Markdown, display\n",
    "\n",
    "from llm_synthesis.transformers.figure_extraction.hf_figure_extractor import (\n",
    "    HFFigureExtractor,\n",
    ")\n",
    "\n",
    "hf_figure_extractor = HFFigureExtractor()\n",
    "\n",
    "segmented_images = hf_figure_extractor.forward(sample[\"images\"])\n",
    "print(f\"Found {len(segmented_images)} figures in the paper.\")\n",
    "quantative_images = [img for img in segmented_images if img.quantitative]\n",
    "print(f\"Found {len(quantative_images)} quantitative figures in the paper.\")\n",
    "\n",
    "for quantative_image in quantative_images:\n",
    "    display(\n",
    "        Markdown(\n",
    "            f\"![Subfigure](data:image/png;base64,{quantative_image.base64_data})\"\n",
    "        )\n",
    "    )\n",
    "    print(quantative_image.figure_class)\n",
    "    print(\"-\" * 100)"
   ]
  },
  {
   "cell_type": "code",
   "execution_count": null,
   "metadata": {},
   "outputs": [],
   "source": [
    "for image in segmented_images:\n",
    "    display(\n",
    "        Markdown(f\"![Subfigure](data:image/png;base64,{image.base64_data})\")\n",
    "    )\n",
    "    print(image.figure_class)\n",
    "    print(\"-\" * 100)"
   ]
  },
  {
   "cell_type": "code",
   "execution_count": null,
   "metadata": {},
   "outputs": [],
   "source": [
    "from llm_synthesis.transformers.plot_extraction.claude_extraction.plot_data_extraction import (\n",
    "    ClaudeLinePlotDataExtractor,\n",
    ")\n",
    "from llm_synthesis.utils.visualization import visualize_chart\n",
    "\n",
    "# Initialize the extractor\n",
    "extractor = ClaudeLinePlotDataExtractor(model_name=\"claude-sonnet-4-20250514\")\n",
    "\n",
    "# Perform the extraction\n",
    "extracted_data = extractor.forward(quantative_images[0])\n",
    "print(\"Extracted data:\")\n",
    "print(extracted_data)\n",
    "\n",
    "# Track the cost of this operation\n",
    "cost_info = extractor.get_cost()\n",
    "cost_info"
   ]
  },
  {
   "cell_type": "code",
   "execution_count": null,
   "metadata": {},
   "outputs": [],
   "source": [
    "for quantative_image in quantative_images:\n",
    "    figure_class = quantative_image.figure_class\n",
    "    print(figure_class)\n",
    "    display(\n",
    "        Markdown(\n",
    "            f\"![Subfigure](data:image/png;base64,{quantative_image.base64_data})\"\n",
    "        )\n",
    "    )\n",
    "    extracted_data = extractor.forward(quantative_image)\n",
    "    visualize_chart(extracted_data, figure_class=figure_class)\n",
    "    print(\"-\" * 100)"
   ]
  },
  {
   "cell_type": "code",
   "execution_count": null,
   "metadata": {},
   "outputs": [],
   "source": []
  }
 ],
 "metadata": {
  "kernelspec": {
   "display_name": ".venv",
   "language": "python",
   "name": "python3"
  },
  "language_info": {
   "codemirror_mode": {
    "name": "ipython",
    "version": 3
   },
   "file_extension": ".py",
   "mimetype": "text/x-python",
   "name": "python",
   "nbconvert_exporter": "python",
   "pygments_lexer": "ipython3",
   "version": "3.11.12"
  }
 },
 "nbformat": 4,
 "nbformat_minor": 2
}
