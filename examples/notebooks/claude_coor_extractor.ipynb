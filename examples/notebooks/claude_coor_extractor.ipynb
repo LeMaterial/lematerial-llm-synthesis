{
 "cells": [
  {
   "cell_type": "markdown",
   "id": "cfe3e0f2",
   "metadata": {},
   "source": [
    "### Extract data from pdf"
   ]
  },
  {
   "cell_type": "code",
   "execution_count": null,
   "id": "1edd3ac8",
   "metadata": {},
   "outputs": [],
   "source": [
    "from llm_synthesis.transformers.pdf_extraction.mistral_pdf_extractor import (\n",
    "    MistralPDFExtractor,\n",
    ")\n",
    "\n",
    "pdf_path = \"<path_to_your_pdf_file>\"  # Replace with your PDF file path\n",
    "pdf_bytes = open(pdf_path, \"rb\").read()\n",
    "extracted_text = MistralPDFExtractor().forward(pdf_bytes)\n",
    "\n",
    "print(extracted_text)"
   ]
  },
  {
   "cell_type": "markdown",
   "id": "1ba6a021",
   "metadata": {},
   "source": [
    "### Extract figures from extracted data"
   ]
  },
  {
   "cell_type": "code",
   "execution_count": null,
   "id": "f4e9b6f6",
   "metadata": {},
   "outputs": [],
   "source": [
    "from llm_synthesis.transformers.figure_extraction.regex_figure_extractor import (\n",
    "    FigureExtractorMarkdown,\n",
    ")\n",
    "\n",
    "figure_extractor = FigureExtractorMarkdown()\n",
    "\n",
    "figures = figure_extractor.forward(extracted_text)"
   ]
  },
  {
   "cell_type": "code",
   "execution_count": null,
   "id": "2bc3acff",
   "metadata": {},
   "outputs": [],
   "source": [
    "import base64\n",
    "\n",
    "from IPython.display import Image\n",
    "\n",
    "# Convert base64 string to image and display\n",
    "Image(base64.b64decode(figures[0].base64_data))"
   ]
  },
  {
   "cell_type": "code",
   "execution_count": null,
   "id": "0add504b",
   "metadata": {},
   "outputs": [],
   "source": [
    "from llm_synthesis.models.figure import FigureInfoWithPaper\n",
    "\n",
    "figure = FigureInfoWithPaper(\n",
    "    **figures[0].__dict__,\n",
    "    paper_text=extracted_text,\n",
    "    si_text=\"\",\n",
    ")"
   ]
  },
  {
   "cell_type": "markdown",
   "id": "e6d64840",
   "metadata": {},
   "source": [
    "### Call Claude API for extraction"
   ]
  },
  {
   "cell_type": "code",
   "execution_count": null,
   "id": "c608f5f9",
   "metadata": {},
   "outputs": [],
   "source": [
    "from llm_synthesis.transformers.plot_extraction.claude_extraction.plot_data_extraction import (\n",
    "    ClaudeLinePlotDataExtractor,\n",
    ")\n",
    "\n",
    "extractor = ClaudeLinePlotDataExtractor(model_name=\"claude-sonnet-4-20250514\")\n",
    "extracted_data = extractor.forward(figure)\n",
    "print(extracted_data)"
   ]
  },
  {
   "cell_type": "markdown",
   "id": "e273795f",
   "metadata": {},
   "source": [
    "### Visualize extracted data series with their labels and axis for the chart"
   ]
  },
  {
   "cell_type": "code",
   "execution_count": null,
   "id": "b9af0a8b",
   "metadata": {},
   "outputs": [],
   "source": [
    "from llm_synthesis.utils.visualization import visulize_line_chart\n",
    "\n",
    "visulize_line_chart(extracted_data)\n"
   ]
  },
  {
   "cell_type": "code",
   "execution_count": null,
   "id": "45a8f196",
   "metadata": {},
   "outputs": [],
   "source": []
  }
 ],
 "metadata": {
  "kernelspec": {
   "display_name": ".venv",
   "language": "python",
   "name": "python3"
  },
  "language_info": {
   "codemirror_mode": {
    "name": "ipython",
    "version": 3
   },
   "file_extension": ".py",
   "mimetype": "text/x-python",
   "name": "python",
   "nbconvert_exporter": "python",
   "pygments_lexer": "ipython3",
   "version": "3.11.13"
  }
 },
 "nbformat": 4,
 "nbformat_minor": 5
}
