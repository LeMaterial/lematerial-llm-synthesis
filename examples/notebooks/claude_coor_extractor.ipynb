{
 "cells": [
  {
   "cell_type": "code",
   "execution_count": null,
   "id": "1",
   "metadata": {},
   "outputs": [],
   "source": [
    "%load_ext autoreload\n",
    "%autoreload 2"
   ]
  },
  {
   "cell_type": "markdown",
   "id": "b5fb7dec",
   "metadata": {},
   "source": [
    "### Convert image to FigureInfo object"
   ]
  },
  {
   "cell_type": "code",
   "execution_count": null,
   "id": "2",
   "metadata": {},
   "outputs": [],
   "source": [
    "import base64\n",
    "import json\n",
    "import os\n",
    "\n",
    "from llm_synthesis.models.figure import FigureInfo\n",
    "\n",
    "\n",
    "def convert_raw_image_(img_path: str) -> FigureInfo:\n",
    "    \"\"\"\n",
    "    Load an image from the given path convert it to base64-encoded string,\n",
    "    then wrap it in a FigureInfo object.\n",
    "\n",
    "    Parameters:\n",
    "        path (str): Path to the image file (.png, .jpeg, .jpg)\n",
    "    Returns:\n",
    "        FigureInfo: An object containing the base64-encoded image data and other metadata.\n",
    "    \"\"\"\n",
    "    ext = os.path.splitext(img_path)[1].lower()\n",
    "    if ext not in [\".png\", \".jpeg\", \".jpg\"]:\n",
    "        raise ValueError(f\"Unsupported image format: {ext}\")\n",
    "\n",
    "    with open(img_path, \"rb\") as f:\n",
    "        encoded = base64.b64encode(f.read()).decode(\"utf-8\")\n",
    "\n",
    "    figure_info = FigureInfo(\n",
    "        base64_data=encoded,\n",
    "        alt_text=\"\",\n",
    "        position=0,\n",
    "        context_before=\"\",\n",
    "        context_after=\"\",\n",
    "        figure_reference=\"\",\n",
    "        figure_class=\"\",\n",
    "    )\n",
    "\n",
    "    return figure_info\n",
    "\n",
    "\n",
    "img_path = \"<path_of_your_image.png>\"\n",
    "figure_info = convert_raw_image_(img_path)"
   ]
  },
  {
   "cell_type": "markdown",
   "id": "7",
   "metadata": {},
   "source": [
    "### Call Claude API for extraction\n"
   ]
  },
  {
   "cell_type": "code",
   "execution_count": null,
   "id": "8",
   "metadata": {},
   "outputs": [],
   "source": [
    "from llm_synthesis.transformers.plot_extraction.claude_extraction.plot_data_extraction import (\n",
    "    ClaudeLinePlotDataExtractor,\n",
    ")\n",
    "\n",
    "# Initialize the extractor\n",
    "extractor = ClaudeLinePlotDataExtractor(model_name=\"claude-sonnet-4-20250514\")\n",
    "\n",
    "# Perform the extraction\n",
    "extracted_data = extractor.forward(figure_info)\n",
    "print(\"Extracted data:\")\n",
    "print(extracted_data)\n",
    "\n",
    "# Track the cost of this operation\n",
    "cost_info = extractor.get_cost()\n",
    "cost_info"
   ]
  },
  {
   "cell_type": "markdown",
   "id": "128c4cb8",
   "metadata": {},
   "source": [
    "### Visualize extracted data series with their labels and axis for the chart"
   ]
  },
  {
   "cell_type": "code",
   "execution_count": null,
   "id": "8fb533e9",
   "metadata": {},
   "outputs": [],
   "source": [
    "# Orginal figure\n",
    "from IPython.display import Image\n",
    "\n",
    "Image(base64.b64decode(figure_info.base64_data))"
   ]
  },
  {
   "cell_type": "code",
   "execution_count": null,
   "id": "98a7c125",
   "metadata": {},
   "outputs": [],
   "source": [
    "# visualize ground truth and extracted data\n",
    "from llm_synthesis.transformers.plot_extraction.claude_extraction.plot_data_extraction import (\n",
    "    ExtractedLinePlotData,\n",
    ")\n",
    "from llm_synthesis.utils.visualization import visualize_line_chart\n",
    "\n",
    "# load ground truth coordinates\n",
    "ground_truth_path = \"<path_to_ground_truth.json>\"  # make sure the name of each series is consistent with the extracted data\n",
    "\n",
    "with open(ground_truth_path) as f:\n",
    "    gt_coordinates = json.load(f)\n",
    "    gt_extracted_data = ExtractedLinePlotData.model_validate(gt_coordinates)\n",
    "\n",
    "# sort the names for consistent visualization\n",
    "gt_extracted_data.name_to_coordinates = dict(\n",
    "    sorted(\n",
    "        gt_extracted_data.name_to_coordinates.items(), key=lambda item: item[0]\n",
    "    )\n",
    ")\n",
    "extracted_data.name_to_coordinates = dict(\n",
    "    sorted(extracted_data.name_to_coordinates.items(), key=lambda item: item[0])\n",
    ")\n",
    "\n",
    "visualize_line_chart(gt_extracted_data)\n",
    "visualize_line_chart(extracted_data)"
   ]
  },
  {
   "cell_type": "markdown",
   "id": "a1f9b032",
   "metadata": {},
   "source": [
    "### Compute the RMSE of the extracted data to ground truth"
   ]
  },
  {
   "cell_type": "code",
   "execution_count": null,
   "id": "815cc266",
   "metadata": {},
   "outputs": [],
   "source": [
    "from llm_synthesis.metrics.extraction_metric.figure_extraction_metric import (\n",
    "    FigureExtractionMetric,\n",
    ")\n",
    "\n",
    "figure_extraction_metric = FigureExtractionMetric()\n",
    "\n",
    "rmse = figure_extraction_metric(\n",
    "    extracted_data, gt_extracted_data, error_metric=\"rmse\"\n",
    ")\n",
    "mae = figure_extraction_metric(\n",
    "    extracted_data, gt_extracted_data, error_metric=\"mae\"\n",
    ")\n",
    "rmse, mae\n"
   ]
  },
  {
   "cell_type": "code",
   "execution_count": null,
   "id": "2d224983",
   "metadata": {},
   "outputs": [],
   "source": []
  }
 ],
 "metadata": {
  "kernelspec": {
   "display_name": "llm-synthesis",
   "language": "python",
   "name": "python3"
  },
  "language_info": {
   "codemirror_mode": {
    "name": "ipython",
    "version": 3
   },
   "file_extension": ".py",
   "mimetype": "text/x-python",
   "name": "python",
   "nbconvert_exporter": "python",
   "pygments_lexer": "ipython3",
   "version": "3.11.13"
  }
 },
 "nbformat": 4,
 "nbformat_minor": 5
}
