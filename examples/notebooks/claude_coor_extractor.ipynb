{
 "cells": [
  {
   "cell_type": "markdown",
   "id": "cfe3e0f2",
   "metadata": {},
   "source": [
    "### Extract data from pdf"
   ]
  },
  {
   "cell_type": "code",
   "execution_count": null,
   "id": "1edd3ac8",
   "metadata": {},
   "outputs": [],
   "source": [
    "from llm_synthesis.transformers.pdf_extraction.mistral_pdf_extractor import (\n",
    "    MistralPDFExtractor,\n",
    ")\n",
    "\n",
    "pdf_path = \"<path_to_your_pdf_file>\"  # Replace with your PDF file path\n",
    "pdf_bytes = open(pdf_path, \"rb\").read()\n",
    "extracted_text = MistralPDFExtractor().forward(pdf_bytes)\n",
    "\n",
    "print(extracted_text)"
   ]
  },
  {
   "cell_type": "markdown",
   "id": "1ba6a021",
   "metadata": {},
   "source": [
    "### Extract figures from extracted data"
   ]
  },
  {
   "cell_type": "code",
   "execution_count": null,
   "id": "f4e9b6f6",
   "metadata": {},
   "outputs": [],
   "source": [
    "from llm_synthesis.transformers.figure_extraction.regex_figure_extractor import (\n",
    "    FigureExtractorMarkdown,\n",
    ")\n",
    "\n",
    "figure_extractor = FigureExtractorMarkdown()\n",
    "\n",
    "figures = figure_extractor.forward(extracted_text)"
   ]
  },
  {
   "cell_type": "code",
   "execution_count": null,
   "id": "2bc3acff",
   "metadata": {},
   "outputs": [],
   "source": [
    "import base64\n",
    "\n",
    "from IPython.display import Image\n",
    "\n",
    "# Convert base64 string to image and display\n",
    "Image(base64.b64decode(figures[0].base64_data))"
   ]
  },
  {
   "cell_type": "code",
   "execution_count": null,
   "id": "0add504b",
   "metadata": {},
   "outputs": [],
   "source": [
    "from llm_synthesis.models.figure import FigureInfoWithPaper\n",
    "\n",
    "figure = FigureInfoWithPaper(\n",
    "    **figures[0].__dict__,\n",
    "    paper_text=extracted_text,\n",
    "    si_text=\"\",\n",
    ")"
   ]
  },
  {
   "cell_type": "markdown",
   "id": "e6d64840",
   "metadata": {},
   "source": [
    "### Call Claude API for extraction"
   ]
  },
  {
   "cell_type": "code",
   "execution_count": null,
   "id": "86af8efd",
   "metadata": {},
   "outputs": [],
   "source": [
    "# Claude Cost Tracking Helper\n",
    "def track_claude_costs(extractor, operation_name=\"Claude Operation\"):\n",
    "    \"\"\"\n",
    "    Utility function to track and display Claude API costs.\n",
    "    \n",
    "    Args:\n",
    "        extractor: ClaudeLinePlotDataExtractor instance\n",
    "        operation_name: Name of the operation for display\n",
    "    \n",
    "    Returns:\n",
    "        dict: Cost information\n",
    "    \"\"\"\n",
    "    cost = extractor.get_cost()\n",
    "    cost_info = {\n",
    "        \"operation\": operation_name,\n",
    "        \"cost_usd\": cost,\n",
    "        \"formatted_cost\": f\"${cost:.6f}\" if cost > 0 else \"$0.00 (no cost data available)\"\n",
    "    }\n",
    "    \n",
    "    print(f\"💰 {operation_name} Cost: {cost_info['formatted_cost']}\")\n",
    "    return cost_info\n",
    "\n",
    "def reset_claude_costs(extractor):\n",
    "    \"\"\"Reset the cost counter and return previous cost.\"\"\"\n",
    "    previous_cost = extractor.reset_cost()\n",
    "    print(f\"🔄 Cost counter reset. Previous total: ${previous_cost:.6f}\")\n",
    "    return previous_cost\n",
    "\n",
    "def create_cost_summary(cost_records):\n",
    "    \"\"\"Create a summary of all tracked costs.\"\"\"\n",
    "    total_cost = sum(record['cost_usd'] for record in cost_records)\n",
    "    print(\"\\n\" + \"=\"*50)\n",
    "    print(\"📊 CLAUDE API COST SUMMARY\")\n",
    "    print(\"=\"*50)\n",
    "    for record in cost_records:\n",
    "        print(f\"   • {record['operation']}: {record['formatted_cost']}\")\n",
    "    print(\"-\"*50)\n",
    "    print(f\"   💰 TOTAL COST: ${total_cost:.6f}\")\n",
    "    print(\"=\"*50)\n",
    "    return total_cost"
   ]
  },
  {
   "cell_type": "code",
   "execution_count": null,
   "id": "c608f5f9",
   "metadata": {},
   "outputs": [],
   "source": [
    "from llm_synthesis.transformers.plot_extraction.claude_extraction.plot_data_extraction import (\n",
    "    ClaudeLinePlotDataExtractor,\n",
    ")\n",
    "\n",
    "# Initialize the extractor\n",
    "extractor = ClaudeLinePlotDataExtractor(model_name=\"claude-sonnet-4-20250514\")\n",
    "\n",
    "# Reset costs to start fresh (optional)\n",
    "reset_claude_costs(extractor)\n",
    "\n",
    "# Perform the extraction\n",
    "extracted_data = extractor.forward(figure)\n",
    "print(\"Extracted data:\")\n",
    "print(extracted_data)\n",
    "\n",
    "# Track the cost of this operation\n",
    "cost_info = track_claude_costs(extractor, \"Plot Data Extraction\")\n",
    "\n",
    "# Store cost info for later summary (optional)\n",
    "cost_records = [cost_info]"
   ]
  },
  {
   "cell_type": "markdown",
   "id": "e273795f",
   "metadata": {},
   "source": [
    "### Visualize extracted data series with their labels and axis for the chart"
   ]
  },
  {
   "cell_type": "code",
   "execution_count": null,
   "id": "b9af0a8b",
   "metadata": {},
   "outputs": [],
   "source": [
    "from llm_synthesis.utils.visualization import visulize_line_chart\n",
    "\n",
    "visulize_line_chart(extracted_data)\n"
   ]
  },
  {
   "cell_type": "code",
   "execution_count": null,
   "id": "45a8f196",
   "metadata": {},
   "outputs": [],
   "source": [
    "# Final Cost Summary\n",
    "print(\"📈 Final Claude API Cost Report\")\n",
    "total_session_cost = create_cost_summary(cost_records)\n",
    "\n",
    "# You can also get the final cost directly from the extractor\n",
    "final_extractor_cost = extractor.get_cost()\n",
    "print(f\"\\n🔍 Extractor total cost: ${final_extractor_cost:.6f}\")\n",
    "\n",
    "# Save cost info to file (optional)\n",
    "import json\n",
    "from datetime import datetime\n",
    "\n",
    "cost_report = {\n",
    "    \"timestamp\": datetime.now().isoformat(),\n",
    "    \"notebook\": \"claude_coor_extractor.ipynb\",\n",
    "    \"total_cost_usd\": total_session_cost,\n",
    "    \"operations\": cost_records,\n",
    "    \"model_used\": \"claude-sonnet-4-20250514\"\n",
    "}\n",
    "\n",
    "# Uncomment to save cost report to file\n",
    "# with open(\"claude_cost_report.json\", \"w\") as f:\n",
    "#     json.dump(cost_report, f, indent=2)\n",
    "# print(\"💾 Cost report saved to claude_cost_report.json\")"
   ]
  }
 ],
 "metadata": {
  "kernelspec": {
   "display_name": ".venv",
   "language": "python",
   "name": "python3"
  },
  "language_info": {
   "codemirror_mode": {
    "name": "ipython",
    "version": 3
   },
   "file_extension": ".py",
   "mimetype": "text/x-python",
   "name": "python",
   "nbconvert_exporter": "python",
   "pygments_lexer": "ipython3",
   "version": "3.11.13"
  }
 },
 "nbformat": 4,
 "nbformat_minor": 5
}
