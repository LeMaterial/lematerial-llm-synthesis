{
 "cells": [
  {
   "cell_type": "code",
   "execution_count": null,
   "metadata": {},
   "outputs": [],
   "source": [
    "from llm_synthesis.transformers.pdf_extraction.mistral_pdf_extractor import (\n",
    "    MistralPDFExtractor,\n",
    ")\n",
    "\n",
    "pdf_path = \"<path_to_data>/data/pdf_papers/test.pdf\"\n",
    "\n",
    "pdf_bytes = open(pdf_path, \"rb\").read()\n",
    "\n",
    "extracted_text = MistralPDFExtractor().forward(pdf_bytes)\n",
    "\n",
    "print(extracted_text)"
   ]
  },
  {
   "cell_type": "code",
   "execution_count": null,
   "metadata": {},
   "outputs": [],
   "source": [
    "with open(\n",
    "    \"<path_to_data>/data/txt_papers/test.txt\",\n",
    "    \"w+\",\n",
    ") as f:\n",
    "    f.write(extracted_text)"
   ]
  },
  {
   "cell_type": "code",
   "execution_count": null,
   "metadata": {},
   "outputs": [],
   "source": [
    "with open(\"<path_to_data>/data/txt_papers/test.txt\") as f:\n",
    "    extracted_text = f.read()"
   ]
  },
  {
   "cell_type": "code",
   "execution_count": null,
   "metadata": {},
   "outputs": [],
   "source": [
    "from llm_synthesis.transformers.figure_extraction.regex_figure_extractor import (\n",
    "    FigureExtractorMarkdown,\n",
    ")\n",
    "\n",
    "figure_extractor = FigureExtractorMarkdown()\n",
    "\n",
    "figures = figure_extractor.forward(extracted_text)"
   ]
  },
  {
   "cell_type": "code",
   "execution_count": null,
   "metadata": {},
   "outputs": [],
   "source": [
    "import base64\n",
    "\n",
    "from IPython.display import Image\n",
    "\n",
    "# Convert base64 string to image and display\n",
    "Image(base64.b64decode(figures[6].base64_data))"
   ]
  },
  {
   "cell_type": "code",
   "execution_count": null,
   "metadata": {},
   "outputs": [],
   "source": [
    "from llm_synthesis.models.figure import FigureInfoWithPaper\n",
    "\n",
    "figure = FigureInfoWithPaper(\n",
    "    **figures[6].__dict__,\n",
    "    paper_text=extracted_text,\n",
    "    si_text=\"\",\n",
    ")"
   ]
  },
  {
   "cell_type": "code",
   "execution_count": null,
   "metadata": {},
   "outputs": [],
   "source": [
    "from llm_synthesis.transformers.plot_extraction.plot_information_extraction_dspy import (\n",
    "    PlotInformationExtractor,\n",
    "    make_dspy_plot_information_extractor_signature,\n",
    ")\n",
    "from llm_synthesis.utils.dspy_utils import get_llm_from_name\n",
    "\n",
    "signature = make_dspy_plot_information_extractor_signature()  # Use defaults\n",
    "\n",
    "lm = get_llm_from_name(\"gpt-4o-mini\")\n",
    "\n",
    "plot_information_extractor = PlotInformationExtractor(signature, lm)\n",
    "\n",
    "plot_info = plot_information_extractor.forward(figure)\n",
    "\n",
    "print(plot_info)\n",
    "print(\"Plot is extractable:\", plot_info.is_extractable_plot)"
   ]
  },
  {
   "cell_type": "code",
   "execution_count": null,
   "metadata": {},
   "outputs": [],
   "source": [
    "from llm_synthesis.transformers.plot_extraction.plot_data_extraction_dspy import (\n",
    "    PlotDataExtractor,\n",
    "    make_dspy_plot_data_extractor_signature,\n",
    ")\n",
    "from llm_synthesis.utils.dspy_utils import get_llm_from_name\n",
    "\n",
    "signature = make_dspy_plot_data_extractor_signature()\n",
    "\n",
    "lm = get_llm_from_name(\"gpt-4o-mini\")\n",
    "\n",
    "plot_information_extractor = PlotDataExtractor(signature, lm)\n",
    "\n",
    "extracted_data = plot_information_extractor.forward((figure, \"\"))\n",
    "\n",
    "print(extracted_data)"
   ]
  },
  {
   "cell_type": "code",
   "execution_count": null,
   "metadata": {},
   "outputs": [],
   "source": [
    "from llm_synthesis.transformers.plot_extraction.plot_analysis_extraction_dspy import (\n",
    "    PlotAnalysisExtractor,\n",
    "    make_dspy_plot_analysis_extractor_signature,\n",
    ")\n",
    "\n",
    "signature = make_dspy_plot_analysis_extractor_signature()\n",
    "\n",
    "lm = get_llm_from_name(\"gpt-4o-mini\")\n",
    "\n",
    "plot_analysis_extractor = PlotAnalysisExtractor(signature, lm)\n",
    "\n",
    "plot_analysis = plot_analysis_extractor.forward((figure, extracted_data))\n",
    "\n",
    "print(plot_analysis)"
   ]
  }
 ],
 "metadata": {
  "kernelspec": {
   "display_name": ".venv",
   "language": "python",
   "name": "python3"
  },
  "language_info": {
   "codemirror_mode": {
    "name": "ipython",
    "version": 3
   },
   "file_extension": ".py",
   "mimetype": "text/x-python",
   "name": "python",
   "nbconvert_exporter": "python",
   "pygments_lexer": "ipython3",
   "version": "3.11.11"
  }
 },
 "nbformat": 4,
 "nbformat_minor": 2
}
