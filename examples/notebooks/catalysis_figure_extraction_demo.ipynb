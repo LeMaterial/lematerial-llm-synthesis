{
 "cells": [
  {
   "cell_type": "code",
   "execution_count": 1,
   "metadata": {},
   "outputs": [],
   "source": [
    "from pathlib import Path\n",
    "\n",
    "from dotenv import load_dotenv\n",
    "\n",
    "# Import the main function\n",
    "from llm_synthesis import process_paper_with_plot_extraction\n",
    "\n",
    "load_dotenv(override=True)\n",
    "from IPython.display import Markdown, display"
   ]
  },
  {
   "cell_type": "code",
   "execution_count": null,
   "metadata": {},
   "outputs": [],
   "source": [
    "pdf_path = \"/Users/siddharthbetala/Desktop/lematerial-llm-synthesis/data/papers/Bajus_2016_Alkali.pdf\"  # Update this path\n",
    "output_dir = \"/Users/siddharthbetala/Desktop/lematerial-llm-synthesis/data/results\"\n",
    "Path(output_dir).mkdir(exist_ok=True)\n",
    "results = process_paper_with_plot_extraction(\n",
    "        pdf_path=pdf_path,\n",
    "        engine=\"mistral\",  # or \"docling\"\n",
    "        llm_name=\"gpt-4o-mini\",\n",
    "        root_dir=output_dir,\n",
    "        save_output=True,\n",
    "        extract_plot_data=True,\n",
    "        generate_figure_descriptions=False,\n",
    "        export_formats=[\"csv\", \"json\", \"summary\"],\n",
    "        delay_between_requests=5.0,\n",
    "    )"
   ]
  },
  {
   "cell_type": "code",
   "execution_count": null,
   "metadata": {},
   "outputs": [],
   "source": [
    "if results:\n",
    "    print(\"📊 RESULTS SUMMARY\")\n",
    "    print(\"=\"*40)\n",
    "    print(f\"Figures processed: {results['figures_processed']}\")\n",
    "    print(f\"Plots extracted: {results['plots_extracted']}\")\n",
    "    print(f\"Descriptions added: {results['descriptions_added']}\")\n",
    "    \n",
    "    if results['processing_errors']:\n",
    "        print(f\"\\n❌ Errors: {len(results['processing_errors'])}\")\n",
    "        for error in results['processing_errors']:\n",
    "            print(f\"  • {error}\")\n",
    "    \n",
    "    if results['plot_data']:\n",
    "        print(\"\\n📈 Plot extraction details:\")\n",
    "        for plot_result in results['plot_data']:\n",
    "            ref = plot_result['figure_reference']\n",
    "            plot_type = plot_result.get('identification', {}).get('plot_type', 'unknown')\n",
    "            subplot_count = plot_result.get('identification', {}).get('subplot_count', 0)\n",
    "            print(f\"  • {ref}: {plot_type} with {subplot_count} subplot(s)\")\n",
    "    \n",
    "    print(f\"\\n📁 Output saved to: {output_dir}/results/\")"
   ]
  },
  {
   "cell_type": "code",
   "execution_count": null,
   "metadata": {},
   "outputs": [],
   "source": []
  }
 ],
 "metadata": {
  "kernelspec": {
   "display_name": ".venv",
   "language": "python",
   "name": "python3"
  },
  "language_info": {
   "codemirror_mode": {
    "name": "ipython",
    "version": 3
   },
   "file_extension": ".py",
   "mimetype": "text/x-python",
   "name": "python",
   "nbconvert_exporter": "python",
   "pygments_lexer": "ipython3",
   "version": "3.11.11"
  }
 },
 "nbformat": 4,
 "nbformat_minor": 2
}
