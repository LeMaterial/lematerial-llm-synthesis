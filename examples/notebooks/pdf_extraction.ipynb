{
 "cells": [
  {
   "cell_type": "markdown",
   "id": "0",
   "metadata": {},
   "source": [
    "# Local files"
   ]
  },
  {
   "cell_type": "markdown",
   "id": "1",
   "metadata": {},
   "source": [
    "For this tutorial, you need to have a list of PDF files in a directory, for instance `../data/pdf_papers/`. You can use the following code to create a list of PDF files in that directory:"
   ]
  },
  {
   "cell_type": "markdown",
   "id": "2",
   "metadata": {},
   "source": [
    "### Extract with Docling"
   ]
  },
  {
   "cell_type": "code",
   "execution_count": null,
   "id": "3",
   "metadata": {},
   "outputs": [],
   "source": [
    "from llm_synthesis.services.storage.local_file_storage import LocalFileStorage\n",
    "from llm_synthesis.services.pdf_extraction.docling_pdf_extractor import (\n",
    "    DoclingPDFExtractor,\n",
    ")\n",
    "\n",
    "storage = LocalFileStorage()\n",
    "pdf_extractor = DoclingPDFExtractor()"
   ]
  },
  {
   "cell_type": "code",
   "execution_count": null,
   "id": "4",
   "metadata": {},
   "outputs": [],
   "source": [
    "base_path = \"<path_to_your_pdf_files>\""
   ]
  },
  {
   "cell_type": "code",
   "execution_count": null,
   "id": "5",
   "metadata": {},
   "outputs": [],
   "source": [
    "pdf_files = storage.list_files(base_path, \"pdf\")"
   ]
  },
  {
   "cell_type": "markdown",
   "id": "6",
   "metadata": {},
   "source": [
    "Extract one file"
   ]
  },
  {
   "cell_type": "code",
   "execution_count": null,
   "id": "7",
   "metadata": {},
   "outputs": [],
   "source": [
    "pdf_file = pdf_files[0]  # Assuming you want to process the first PDF file\n",
    "pdf_content = storage.read_bytes(pdf_file)\n",
    "extracted_text = pdf_extractor.extract_to_markdown(pdf_content)"
   ]
  },
  {
   "cell_type": "markdown",
   "id": "8",
   "metadata": {},
   "source": [
    "Save result locally"
   ]
  },
  {
   "cell_type": "code",
   "execution_count": null,
   "id": "9",
   "metadata": {},
   "outputs": [],
   "source": [
    "txt_file = \"<path_to_save_extracted_text>\""
   ]
  },
  {
   "cell_type": "code",
   "execution_count": null,
   "id": "10",
   "metadata": {},
   "outputs": [],
   "source": [
    "storage.write_text(\n",
    "    txt_file,\n",
    "    extracted_text,\n",
    ")"
   ]
  },
  {
   "cell_type": "markdown",
   "id": "11",
   "metadata": {},
   "source": [
    "### Extract with Mistral"
   ]
  },
  {
   "cell_type": "code",
   "execution_count": null,
   "id": "12",
   "metadata": {},
   "outputs": [],
   "source": [
    "from llm_synthesis.services.pdf_extraction.mistral_pdf_extractor import (\n",
    "    MistralPDFExtractor,\n",
    ")\n",
    "\n",
    "mistral_pdf_extractor = MistralPDFExtractor(mistral_api_key=\"your_mistral_api_key_here\")\n",
    "extracted_text_mistral = mistral_pdf_extractor.extract_to_markdown(pdf_content)\n",
    "storage.write_text(\n",
    "    txt_file,\n",
    "    extracted_text_mistral,\n",
    ")"
   ]
  },
  {
   "cell_type": "markdown",
   "id": "13",
   "metadata": {},
   "source": [
    "# Files on google storage"
   ]
  },
  {
   "cell_type": "markdown",
   "id": "14",
   "metadata": {},
   "source": [
    "For this tutorial, you need to have a list of PDF files in a Google Cloud Storage bucket, for instance `gs://<bucket-name>/pdf_papers/`."
   ]
  },
  {
   "cell_type": "code",
   "execution_count": null,
   "id": "15",
   "metadata": {},
   "outputs": [],
   "source": [
    "from llm_synthesis.services.storage.gcs_file_storage import GCSFileStorage\n",
    "\n",
    "gcs_storage = GCSFileStorage()"
   ]
  },
  {
   "cell_type": "code",
   "execution_count": null,
   "id": "16",
   "metadata": {},
   "outputs": [],
   "source": [
    "pdf_file_folder_uri = \"gs://your_bucket_name/path/to/pdf_files\""
   ]
  },
  {
   "cell_type": "code",
   "execution_count": null,
   "id": "17",
   "metadata": {},
   "outputs": [],
   "source": [
    "pdf_files = gcs_storage.list_files(pdf_file_folder_uri, \"pdf\")"
   ]
  },
  {
   "cell_type": "markdown",
   "id": "18",
   "metadata": {},
   "source": [
    "Extract and write txt files to a Google Cloud Storage bucket"
   ]
  },
  {
   "cell_type": "code",
   "execution_count": null,
   "id": "19",
   "metadata": {},
   "outputs": [],
   "source": [
    "txt_file_uri = \"gs://your_bucket_name/path/to/save_extracted_text\""
   ]
  },
  {
   "cell_type": "code",
   "execution_count": null,
   "id": "20",
   "metadata": {},
   "outputs": [],
   "source": [
    "from llm_synthesis.services.pdf_extraction.docling_pdf_extractor import (\n",
    "    DoclingPDFExtractor,\n",
    ")\n",
    "\n",
    "pdf_extractor = DoclingPDFExtractor()\n",
    "gcs_pdf_content = gcs_storage.read_bytes(\n",
    "    pdf_files[0]\n",
    ")  # Read the first PDF file from GCS\n",
    "extracted_text_gcs = pdf_extractor.extract_to_markdown(gcs_pdf_content)\n",
    "gcs_storage.write_text(\n",
    "    txt_file_uri,\n",
    "    extracted_text_gcs,\n",
    ")"
   ]
  },
  {
   "cell_type": "code",
   "execution_count": null,
   "id": "21",
   "metadata": {},
   "outputs": [],
   "source": []
  }
 ],
 "metadata": {
  "kernelspec": {
   "display_name": ".venv",
   "language": "python",
   "name": "python3"
  },
  "language_info": {
   "codemirror_mode": {
    "name": "ipython",
    "version": 3
   },
   "file_extension": ".py",
   "mimetype": "text/x-python",
   "name": "python",
   "nbconvert_exporter": "python",
   "pygments_lexer": "ipython3",
   "version": "3.11.12"
  }
 },
 "nbformat": 4,
 "nbformat_minor": 5
}
