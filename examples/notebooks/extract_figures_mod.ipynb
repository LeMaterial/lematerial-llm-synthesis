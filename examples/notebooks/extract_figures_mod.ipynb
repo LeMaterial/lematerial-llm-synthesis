{
 "cells": [
  {
   "cell_type": "code",
   "execution_count": null,
   "id": "0",
   "metadata": {},
   "outputs": [],
   "source": [
    "import dotenv\n",
    "\n",
    "dotenv.load_dotenv()"
   ]
  },
  {
   "cell_type": "code",
   "execution_count": null,
   "id": "1",
   "metadata": {},
   "outputs": [],
   "source": [
    "from llm_synthesis.services.storage.local_file_storage import LocalFileStorage\n",
    "\n",
    "storage = LocalFileStorage()\n",
    "main_md = storage.read_text(\"<text-path>\")\n",
    "si_md = storage.read_text(\"<text-path>\")"
   ]
  },
  {
   "cell_type": "code",
   "execution_count": null,
   "id": "2",
   "metadata": {},
   "outputs": [],
   "source": [
    "from llm_synthesis.utils.dspy_utils import configure_dspy\n",
    "\n",
    "configure_dspy(\n",
    "    lm=\"gpt-4o-mini\", model_kwargs=dict(max_tokens=1000, temperature=0.1, top_p=0.9)\n",
    ")"
   ]
  },
  {
   "cell_type": "code",
   "execution_count": null,
   "id": "3",
   "metadata": {},
   "outputs": [],
   "source": [
    "from llm_synthesis.services.md_processing.add_figure_description_processor import (\n",
    "    AddFigureDescriptionsProcessor,\n",
    ")\n",
    "\n",
    "processor = AddFigureDescriptionsProcessor()\n",
    "main_md = processor.process_markdown(main_md, si_md)"
   ]
  },
  {
   "cell_type": "code",
   "execution_count": null,
   "id": "4",
   "metadata": {},
   "outputs": [],
   "source": [
    "storage.write_text(\"<output-path>\", main_md)"
   ]
  },
  {
   "cell_type": "code",
   "execution_count": null,
   "id": "5",
   "metadata": {},
   "outputs": [],
   "source": []
  }
 ],
 "metadata": {
  "kernelspec": {
   "display_name": ".venv",
   "language": "python",
   "name": "python3"
  },
  "language_info": {
   "codemirror_mode": {
    "name": "ipython",
    "version": 3
   },
   "file_extension": ".py",
   "mimetype": "text/x-python",
   "name": "python",
   "nbconvert_exporter": "python",
   "pygments_lexer": "ipython3",
   "version": "3.11.11"
  }
 },
 "nbformat": 4,
 "nbformat_minor": 5
}
