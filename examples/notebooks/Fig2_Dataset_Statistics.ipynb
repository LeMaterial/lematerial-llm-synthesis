{
 "cells": [
  {
   "cell_type": "markdown",
   "id": "0",
   "metadata": {},
   "source": [
    "# Script to plot relevant plots for Fig. 2 (NeurIPS AI4Mat)\n"
   ]
  },
  {
   "cell_type": "code",
   "execution_count": null,
   "id": "1",
   "metadata": {},
   "outputs": [],
   "source": [
    "import json\n",
    "import os\n",
    "\n",
    "from llm_synthesis.utils.style_utils import get_cmap, get_palette, set_style\n",
    "\n",
    "cmap = get_cmap()\n",
    "palette = get_palette()\n",
    "set_style()"
   ]
  },
  {
   "cell_type": "code",
   "execution_count": null,
   "id": "2",
   "metadata": {},
   "outputs": [],
   "source": [
    "from datasets import load_dataset\n",
    "\n",
    "ds = load_dataset(\"LeMaterial/LeMat-Synth\")\n",
    "ds"
   ]
  },
  {
   "cell_type": "code",
   "execution_count": null,
   "id": "3",
   "metadata": {},
   "outputs": [],
   "source": [
    "df = ds[\"sample_for_evaluation\"].to_pandas()\n",
    "\n",
    "df.head()"
   ]
  },
  {
   "cell_type": "code",
   "execution_count": null,
   "id": "4",
   "metadata": {},
   "outputs": [],
   "source": [
    "df[\"paper_published_date\"].unique()"
   ]
  },
  {
   "cell_type": "code",
   "execution_count": null,
   "id": "5",
   "metadata": {},
   "outputs": [],
   "source": [
    "# get the first 4 numbers of the paper_published_date\n",
    "df[\"paper_published_date\"] = df[\"paper_published_date\"].str[:4]"
   ]
  },
  {
   "cell_type": "code",
   "execution_count": null,
   "id": "6",
   "metadata": {},
   "outputs": [],
   "source": [
    "df[[\"material_category\", \"synthesis_method\", \"paper_published_date\"]]"
   ]
  },
  {
   "cell_type": "code",
   "execution_count": null,
   "id": "7",
   "metadata": {},
   "outputs": [],
   "source": [
    "df[[\"material_category\", \"synthesis_method\", \"paper_published_date\"]].to_csv(\n",
    "    \"dataset_statistics.csv\"\n",
    ")"
   ]
  },
  {
   "cell_type": "code",
   "execution_count": null,
   "id": "8",
   "metadata": {},
   "outputs": [],
   "source": [
    "from datasets import load_dataset\n",
    "\n",
    "ds_paper = load_dataset(\"LeMaterial/LeMat-Synth-Papers\")\n",
    "\n",
    "df_paper = ds_paper[\"sample_for_evaluation\"].to_pandas()\n",
    "\n",
    "df_paper.head()"
   ]
  },
  {
   "cell_type": "code",
   "execution_count": null,
   "id": "9",
   "metadata": {},
   "outputs": [],
   "source": [
    "annotation_folder = (\n",
    "    \"/Users/magdalenalederbauer/Code/lematerial-llm-synthesis/annotations\"\n",
    ")\n",
    "\n",
    "# for every subdir in annotation_folder\n",
    "for subdir in os.listdir(annotation_folder):\n",
    "    # id = name of subdir\n",
    "    id = subdir\n",
    "    id = id.replace(\"cond-mat.\", \"cond-mat/\")\n",
    "    title = df_paper[df_paper[\"id\"] == id][\"title\"].values[0]\n",
    "\n",
    "    row_in_df = df[df[\"paper_title\"] == title]\n",
    "    len(row_in_df)\n",
    "    # result_llm = subdir/result.json\n",
    "    result_llm = os.path.join(annotation_folder, subdir, \"result.json\")\n",
    "    result_human = os.path.join(annotation_folder, subdir, \"result_human.json\")\n",
    "\n",
    "    # load llm_ontology as json\n",
    "    llm_ontology = json.loads(open(result_llm).read())\n",
    "    try:\n",
    "        human_ontology = json.loads(open(result_human).read())\n",
    "    except FileNotFoundError:\n",
    "        print(f\"No human ontology for {title}\")\n",
    "        human_ontology = []\n",
    "\n",
    "    for item in llm_ontology:\n",
    "        mat_name = item[\"material\"]\n",
    "        evaluation_llm = item[\"evaluation\"]\n",
    "        evaluation_human = item[\"evaluation\"]\n",
    "        row = df[df[\"synthesized_material\"] == mat_name]\n",
    "        print(row)\n",
    "    break"
   ]
  },
  {
   "cell_type": "code",
   "execution_count": null,
   "id": "10",
   "metadata": {},
   "outputs": [],
   "source": [
    "row"
   ]
  },
  {
   "cell_type": "code",
   "execution_count": null,
   "id": "11",
   "metadata": {},
   "outputs": [],
   "source": [
    "llm_ontology"
   ]
  },
  {
   "cell_type": "code",
   "execution_count": null,
   "id": "12",
   "metadata": {},
   "outputs": [],
   "source": []
  }
 ],
 "metadata": {
  "kernelspec": {
   "display_name": ".venv",
   "language": "python",
   "name": "python3"
  },
  "language_info": {
   "codemirror_mode": {
    "name": "ipython",
    "version": 3
   },
   "file_extension": ".py",
   "mimetype": "text/x-python",
   "name": "python",
   "nbconvert_exporter": "python",
   "pygments_lexer": "ipython3",
   "version": "3.11.12"
  }
 },
 "nbformat": 4,
 "nbformat_minor": 5
}
