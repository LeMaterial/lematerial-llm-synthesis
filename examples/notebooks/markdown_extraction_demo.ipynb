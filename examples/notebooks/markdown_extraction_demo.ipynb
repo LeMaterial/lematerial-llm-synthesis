{
 "cells": [
  {
   "cell_type": "markdown",
   "metadata": {},
   "source": [
    "# Example notebook demonstrating the extract_markdown functionality\n",
    "This notebook shows how to extract markdown from PDFs using different engines and configurations\n",
    "\n",
    "We support 2 extraction engines (Mistral OCR and Docling) with 3 image configurations each: \"embedded\", \"referenced\", and \"placeholder\""
   ]
  },
  {
   "cell_type": "markdown",
   "metadata": {},
   "source": [
    "## Imports"
   ]
  },
  {
   "cell_type": "code",
   "execution_count": null,
   "metadata": {},
   "outputs": [],
   "source": [
    "from IPython.display import Markdown, display\n",
    "from llm_synthesis.utils import extract_markdown\n",
    "from dotenv import load_dotenv\n",
    "load_dotenv(override=True)"
   ]
  },
  {
   "cell_type": "markdown",
   "metadata": {},
   "source": [
    "## Set Example File Path"
   ]
  },
  {
   "cell_type": "code",
   "execution_count": 8,
   "metadata": {},
   "outputs": [],
   "source": [
    "PDF_PATH = \"/Users/siddharthbetala/Desktop/llm-synthesis/data/pdf_papers/s41586-021-03819-2.pdf\""
   ]
  },
  {
   "cell_type": "markdown",
   "metadata": {},
   "source": [
    "## Configuration 1 - Mistral with Embedded Images\n",
    "\n",
    "The 'embedded' configuration embeds images directly in the markdown as base64 data URIs"
   ]
  },
  {
   "cell_type": "code",
   "execution_count": 14,
   "metadata": {},
   "outputs": [],
   "source": [
    "mistral_embedded = extract_markdown(\n",
    "    pdf_path=PDF_PATH,\n",
    "    engine=\"mistral\",  # Use Mistral OCR engine\n",
    "    image_mode=\"embedded\",  # Embed images as data URIs\n",
    "    save_markdown=False,  # Don't save to disk, just return content\n",
    ")"
   ]
  },
  {
   "cell_type": "code",
   "execution_count": null,
   "metadata": {},
   "outputs": [],
   "source": [
    "display(Markdown(mistral_embedded))"
   ]
  },
  {
   "cell_type": "markdown",
   "metadata": {},
   "source": [
    "## Configuration 2 - Docling with Referenced Images\n",
    "The 'referenced' configuration saves images as separate files and references them in markdown. The output markdown and images can be seen in the results folder"
   ]
  },
  {
   "cell_type": "code",
   "execution_count": null,
   "metadata": {},
   "outputs": [],
   "source": [
    "docling_referenced = extract_markdown(\n",
    "    pdf_path=PDF_PATH,\n",
    "    engine=\"docling\",\n",
    "    image_mode=\"embedded\",\n",
    "    root_dir=\".\",\n",
    "    save_markdown=False,\n",
    ")"
   ]
  },
  {
   "cell_type": "code",
   "execution_count": null,
   "metadata": {},
   "outputs": [],
   "source": [
    "docling_referenced[:2000]"
   ]
  },
  {
   "cell_type": "code",
   "execution_count": null,
   "metadata": {},
   "outputs": [],
   "source": [
    "display(Markdown(docling_referenced))"
   ]
  },
  {
   "cell_type": "markdown",
   "metadata": {},
   "source": [
    "## Configuration 3 - Mistral with Placeholder Images\n",
    "The \"placeholder\" configuration replaces images with placeholder text"
   ]
  },
  {
   "cell_type": "code",
   "execution_count": 9,
   "metadata": {},
   "outputs": [],
   "source": [
    "mistral_placeholder = extract_markdown(\n",
    "    pdf_path=PDF_PATH,\n",
    "    engine=\"mistral\",  # Use Mistral OCR engine\n",
    "    image_mode=\"placeholder\",  # Embed images as data URIs\n",
    "    save_markdown=False,  # Don't save to disk, just return content\n",
    ")"
   ]
  },
  {
   "cell_type": "code",
   "execution_count": null,
   "metadata": {},
   "outputs": [],
   "source": [
    "display(Markdown(mistral_placeholder))"
   ]
  },
  {
   "cell_type": "code",
   "execution_count": null,
   "metadata": {},
   "outputs": [],
   "source": []
  }
 ],
 "metadata": {
  "kernelspec": {
   "display_name": ".venv",
   "language": "python",
   "name": "python3"
  },
  "language_info": {
   "codemirror_mode": {
    "name": "ipython",
    "version": 3
   },
   "file_extension": ".py",
   "mimetype": "text/x-python",
   "name": "python",
   "nbconvert_exporter": "python",
   "pygments_lexer": "ipython3",
   "version": "3.11.11"
  }
 },
 "nbformat": 4,
 "nbformat_minor": 2
}
