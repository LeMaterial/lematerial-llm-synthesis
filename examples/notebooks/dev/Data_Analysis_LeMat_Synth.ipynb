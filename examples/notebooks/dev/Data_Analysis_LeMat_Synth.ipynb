{
 "cells": [
  {
   "cell_type": "markdown",
   "id": "0",
   "metadata": {
    "id": "0"
   },
   "source": [
    "# **LeMaterial/LeMat-Synth Dataset Analysis**\n"
   ]
  },
  {
   "cell_type": "markdown",
   "id": "1",
   "metadata": {
    "id": "1"
   },
   "source": [
    "This notebook is a data analysis of LeMaterial/LeMat-Synth dataset\n"
   ]
  },
  {
   "cell_type": "markdown",
   "id": "2",
   "metadata": {
    "id": "2"
   },
   "source": [
    "## **Available Dataset Splits**\n",
    "\n",
    "- **arxiv**: ArXiv research papers\n",
    "- **chemrxiv**: ChemRxiv chemistry papers\n",
    "- **omg24**: OMG24 conference papers\n",
    "- **sample_for_evaluation**: Evaluation samples\n"
   ]
  },
  {
   "cell_type": "markdown",
   "id": "3",
   "metadata": {
    "id": "3"
   },
   "source": [
    "## **Load libraries**\n"
   ]
  },
  {
   "cell_type": "code",
   "execution_count": null,
   "id": "4",
   "metadata": {
    "id": "4"
   },
   "outputs": [],
   "source": [
    "# Import required libraries\n",
    "import ast\n",
    "import json\n",
    "import re\n",
    "import warnings\n",
    "from collections import Counter\n",
    "\n",
    "import matplotlib.pyplot as plt\n",
    "import pandas as pd\n",
    "import plotly.express as px\n",
    "import seaborn as sns\n",
    "from wordcloud import WordCloud\n",
    "\n",
    "from llm_synthesis.utils.style_utils import set_style\n",
    "\n",
    "set_style()\n",
    "\n",
    "warnings.filterwarnings(\"ignore\")\n",
    "\n",
    "# Remove the limit from the number of displayed columns and rows. It helps to see the entire dataframe while printing it\n",
    "pd.set_option(\"display.max_columns\", None)\n",
    "pd.set_option(\"display.max_rows\", None)"
   ]
  },
  {
   "cell_type": "markdown",
   "id": "5",
   "metadata": {
    "id": "5"
   },
   "source": [
    "## **Data set exploration**\n"
   ]
  },
  {
   "cell_type": "markdown",
   "id": "6",
   "metadata": {
    "id": "6"
   },
   "source": [
    "### **Understand the data**\n"
   ]
  },
  {
   "cell_type": "markdown",
   "id": "7",
   "metadata": {
    "id": "7"
   },
   "source": [
    "Create new column 'source'\n"
   ]
  },
  {
   "cell_type": "markdown",
   "id": "8",
   "metadata": {
    "id": "8"
   },
   "source": [
    "Examine the columns, data types, and basic statistics.\n"
   ]
  },
  {
   "cell_type": "code",
   "execution_count": null,
   "id": "9",
   "metadata": {
    "colab": {
     "base_uri": "https://localhost:8080/",
     "height": 669,
     "referenced_widgets": [
      "6d6ee19bb78c491fa74cf83a242e2999",
      "33e286a8e62e4ec5b338c2196d7e21e1",
      "7a46181b3a2e45459ff4acf9e1e880d7",
      "60dbe81efa194c6982747b27c3d93a43",
      "a788eec42a3140c9b217b9723342eb00",
      "5fca26589ae04b41ba09074bcc40e65b",
      "67cac07a39ed4636adf1b6cc82767c6f",
      "94485570b7134d478d0d9f4482a06554",
      "c6d976d9d78f4de2921fe346b529a821",
      "fed813f2030c41df9870c293bc49bacf",
      "b93d850f429d490fb324f1e12072a606",
      "7dafbef43b8e410c98bf7e13da1ac084",
      "5cf6a054debd4099ae16b3f0be5a6fb5",
      "deb193148cce4e6ca2570e26d645eaa7",
      "ede415df221f4ac3a24dbe4f51109650",
      "a094cbd677964ccb81540bea2615c215",
      "9dbc8abc752b43db9ca3d1ad6c53bb30",
      "f177c2281f8845eab1f71257f1d1648d",
      "103cbcf7ccb846009027ab45bfc30125",
      "928cfd1c4aa34b85a5a88463203790ef",
      "662993c105834c02a2c0788dbd4ecbb3",
      "04722da3f4004fc69b71ff2067e106ca",
      "4f9178640bfc489797a5cf47a1bf3696",
      "f0f580a4fdf7499bafb90b88601b2445",
      "e948b9fc306b49e0bf309d6e808032b5",
      "eedd1d602b7b41e8ae1064f36b2e4e6b",
      "cb6ebcac0f0e4b1fbe41a7c3dc1a70e2",
      "88371a95ba144d649434a3a34abf981f",
      "8a33e93fcf604437b300a4794cca1cad",
      "d0f73ee436cd48d4bf119729ddbc2757",
      "3645147f030e476b859d220ddeb7a219",
      "35567ef767d240f5898afeb741a3137b",
      "a58b1ee90dca42a4b337ec5f88e01b4d"
     ]
    },
    "id": "9",
    "outputId": "c710979b-564d-4763-c9ba-4c77d4bd29ce"
   },
   "outputs": [],
   "source": [
    "from datasets import load_dataset\n",
    "\n",
    "dataset = load_dataset(\"LeMaterial/LeMat-Synth\")\n",
    "dataset"
   ]
  },
  {
   "cell_type": "code",
   "execution_count": null,
   "id": "10",
   "metadata": {},
   "outputs": [],
   "source": [
    "df_arxiv = dataset[\"arxiv\"].to_pandas()\n",
    "df_arxiv[\"source_dataset\"] = \"arxiv\"\n",
    "df_chemrxiv = dataset[\"chemrxiv\"].to_pandas()\n",
    "df_chemrxiv[\"source_dataset\"] = \"chemrxiv\"\n",
    "df_omg24 = dataset[\"omg24\"].to_pandas()\n",
    "df_omg24[\"source_dataset\"] = \"omg24\"\n",
    "\n",
    "df_arxiv.head()\n",
    "df_chemrxiv.head()\n",
    "df_omg24.head()\n",
    "\n",
    "data = pd.concat([df_arxiv, df_chemrxiv, df_omg24])"
   ]
  },
  {
   "cell_type": "code",
   "execution_count": null,
   "id": "11",
   "metadata": {
    "colab": {
     "base_uri": "https://localhost:8080/"
    },
    "id": "10",
    "outputId": "5862af8a-cda3-4db2-dcb1-c68c7dadd92f"
   },
   "outputs": [],
   "source": [
    "# Extract the domain name from the URL\n",
    "data[\"source\"] = data[\"paper_url\"].astype(str).str.extract(r\"//([^/]+)\")\n",
    "\n",
    "# Cleaning: remove extensions\n",
    "data[\"source\"] = (\n",
    "    data[\"source\"]\n",
    "    .str.replace(r\"^www\\.\", \"\", regex=True)\n",
    "    .str.replace(r\"^onlinelibrary\\.\", \"\", regex=True)\n",
    "    .str.replace(r\"^link\\.\", \"\", regex=True)\n",
    "    .str.replace(r\"\\.org$|\\.com$|\\.net$|\\.edu$|\\.info$\", \"\", regex=True)\n",
    ")\n",
    "\n",
    "print(data[[\"paper_url\", \"source\"]].head())"
   ]
  },
  {
   "cell_type": "code",
   "execution_count": null,
   "id": "12",
   "metadata": {
    "colab": {
     "base_uri": "https://localhost:8080/"
    },
    "id": "11",
    "outputId": "977f010a-93c1-4251-d401-dccdf9a5eaef"
   },
   "outputs": [],
   "source": [
    "print(data.shape)"
   ]
  },
  {
   "cell_type": "code",
   "execution_count": null,
   "id": "13",
   "metadata": {},
   "outputs": [],
   "source": [
    "data[\"evaluation\"].iloc[0][\"scores\"]"
   ]
  },
  {
   "cell_type": "code",
   "execution_count": null,
   "id": "14",
   "metadata": {},
   "outputs": [],
   "source": [
    "data[\"structural_completeness_score_llm\"] = data[\"evaluation\"].apply(\n",
    "    lambda x: x.get(\"scores\", {}).get(\"structural_completeness_score\")\n",
    "    if isinstance(x, dict)\n",
    "    else None\n",
    ")\n",
    "# material_extraction_score\n",
    "data[\"material_extraction_score_llm\"] = data[\"evaluation\"].apply(\n",
    "    lambda x: x.get(\"scores\", {}).get(\"material_extraction_score\")\n",
    "    if isinstance(x, dict)\n",
    "    else None\n",
    ")\n",
    "# process_steps_score\n",
    "data[\"process_steps_score_llm\"] = data[\"evaluation\"].apply(\n",
    "    lambda x: x.get(\"scores\", {}).get(\"process_steps_score\")\n",
    "    if isinstance(x, dict)\n",
    "    else None\n",
    ")\n",
    "# equipment_extraction_score\n",
    "data[\"equipment_extraction_score_llm\"] = data[\"evaluation\"].apply(\n",
    "    lambda x: x.get(\"scores\", {}).get(\"equipment_extraction_score\")\n",
    "    if isinstance(x, dict)\n",
    "    else None\n",
    ")\n",
    "# conditions_extraction_score\n",
    "data[\"conditions_extraction_score_llm\"] = data[\"evaluation\"].apply(\n",
    "    lambda x: x.get(\"scores\", {}).get(\"conditions_extraction_score\")\n",
    "    if isinstance(x, dict)\n",
    "    else None\n",
    ")\n",
    "# semantic_accuracy_score\n",
    "data[\"semantic_accuracy_score_llm\"] = data[\"evaluation\"].apply(\n",
    "    lambda x: x.get(\"scores\", {}).get(\"semantic_accuracy_score\")\n",
    "    if isinstance(x, dict)\n",
    "    else None\n",
    ")\n",
    "# format_compliance_score\n",
    "data[\"format_compliance_score_llm\"] = data[\"evaluation\"].apply(\n",
    "    lambda x: x.get(\"scores\", {}).get(\"format_compliance_score\")\n",
    "    if isinstance(x, dict)\n",
    "    else None\n",
    ")\n",
    "# overall_score\n",
    "data[\"overall_score_llm\"] = data[\"evaluation\"].apply(\n",
    "    lambda x: x.get(\"scores\", {}).get(\"overall_score\")\n",
    "    if isinstance(x, dict)\n",
    "    else None\n",
    ")"
   ]
  },
  {
   "cell_type": "code",
   "execution_count": null,
   "id": "15",
   "metadata": {
    "colab": {
     "base_uri": "https://localhost:8080/"
    },
    "id": "12",
    "outputId": "7f53a562-c898-47c0-8327-d0a00f280c97"
   },
   "outputs": [],
   "source": [
    "# Check the datatypes of each column.\n",
    "data.info()"
   ]
  },
  {
   "cell_type": "code",
   "execution_count": null,
   "id": "16",
   "metadata": {},
   "outputs": [],
   "source": [
    "# remove columns synthesis_extraction_performance_llm, figure_extraction_performance_llm, synthesis_extraction_performance_human, figure_extraction_performance_human\n",
    "data = data.drop(\n",
    "    columns=[\n",
    "        \"synthesis_extraction_performance_llm\",\n",
    "        \"figure_extraction_performance_llm\",\n",
    "        \"synthesis_extraction_performance_human\",\n",
    "        \"figure_extraction_performance_human\",\n",
    "    ]\n",
    ")"
   ]
  },
  {
   "cell_type": "code",
   "execution_count": null,
   "id": "17",
   "metadata": {
    "colab": {
     "base_uri": "https://localhost:8080/",
     "height": 300
    },
    "id": "13",
    "outputId": "e1a0804c-66d4-474e-958d-fe0886fdcee1"
   },
   "outputs": [],
   "source": [
    "# Numerical statistics\n",
    "data.describe()"
   ]
  },
  {
   "cell_type": "code",
   "execution_count": null,
   "id": "18",
   "metadata": {},
   "outputs": [],
   "source": [
    "import numpy as np\n",
    "import pandas as pd\n",
    "\n",
    "\n",
    "def analyze_synthesis_methods(df):\n",
    "    \"\"\"\n",
    "    Analyze LLM scores by synthesis method\n",
    "\n",
    "    Parameters:\n",
    "    df: DataFrame with the columns you specified\n",
    "\n",
    "    Returns:\n",
    "    DataFrame with mean ± std for each score by synthesis method\n",
    "    \"\"\"\n",
    "\n",
    "    # Define the score columns\n",
    "    score_columns = [\n",
    "        \"structural_completeness_score_llm\",\n",
    "        \"material_extraction_score_llm\",\n",
    "        \"process_steps_score_llm\",\n",
    "        \"equipment_extraction_score_llm\",\n",
    "        \"conditions_extraction_score_llm\",\n",
    "        \"semantic_accuracy_score_llm\",\n",
    "        \"format_compliance_score_llm\",\n",
    "        \"overall_score_llm\",\n",
    "    ]\n",
    "\n",
    "    # Group by synthesis method and calculate mean and std\n",
    "    grouped_stats = (\n",
    "        df.groupby(\"synthesis_method\")[score_columns]\n",
    "        .agg([\"mean\", \"std\", \"count\"])\n",
    "        .round(2)\n",
    "    )\n",
    "\n",
    "    # Create the formatted result DataFrame\n",
    "    results = []\n",
    "\n",
    "    for method in grouped_stats.index:\n",
    "        row = {\"synthesis_method\": method}\n",
    "\n",
    "        for col in score_columns:\n",
    "            mean_val = grouped_stats.loc[method, (col, \"mean\")]\n",
    "            std_val = grouped_stats.loc[method, (col, \"std\")]\n",
    "            count_val = grouped_stats.loc[method, (col, \"count\")]\n",
    "\n",
    "            # Format as mean±std\n",
    "            row[col.replace(\"_score_llm\", \"\")] = f\"{mean_val:.2f}±{std_val:.2f}\"\n",
    "            row[f\"{col.replace('_score_llm', '')}_count\"] = count_val\n",
    "\n",
    "        results.append(row)\n",
    "\n",
    "    result_df = pd.DataFrame(results)\n",
    "\n",
    "    return result_df, grouped_stats\n",
    "\n",
    "\n",
    "# Example usage:\n",
    "# df = pd.read_csv('your_data.csv')\n",
    "formatted_results, detailed_stats = analyze_synthesis_methods(data)\n",
    "formatted_results[\"count\"] = formatted_results[\"structural_completeness_count\"]\n",
    "# remove all columns that end with _count\n",
    "formatted_results = formatted_results.drop(\n",
    "    columns=[col for col in formatted_results.columns if col.endswith(\"_count\")]\n",
    ")\n",
    "# sort by count col\n",
    "formatted_results = formatted_results.sort_values(by=\"count\", ascending=False)\n",
    "\n",
    "# To get just the formatted table:\n",
    "# print(formatted_results.to_csv(index=False))\n",
    "\n",
    "# To see which methods have the most data:\n",
    "# print(formatted_results[['synthesis_method', 'overall_count']].sort_values('overall_count', ascending=False))\n",
    "\n",
    "\n",
    "# Alternative: If you want to filter by minimum sample size\n",
    "def filter_by_sample_size(df, min_samples=10):\n",
    "    \"\"\"Filter to only include synthesis methods with sufficient data\"\"\"\n",
    "    method_counts = df[\"synthesis_method\"].value_counts()\n",
    "    valid_methods = method_counts[method_counts >= min_samples].index\n",
    "    return df[df[\"synthesis_method\"].isin(valid_methods)]\n",
    "\n",
    "\n",
    "# Example with filtering:\n",
    "# filtered_df = filter_by_sample_size(df, min_samples=20)\n",
    "# formatted_results, detailed_stats = analyze_synthesis_methods(filtered_df)"
   ]
  },
  {
   "cell_type": "code",
   "execution_count": null,
   "id": "19",
   "metadata": {},
   "outputs": [],
   "source": [
    "formatted_results.head()"
   ]
  },
  {
   "cell_type": "code",
   "execution_count": null,
   "id": "20",
   "metadata": {},
   "outputs": [],
   "source": [
    "data.describe()"
   ]
  },
  {
   "cell_type": "code",
   "execution_count": null,
   "id": "21",
   "metadata": {},
   "outputs": [],
   "source": [
    "print(formatted_results.to_latex())"
   ]
  },
  {
   "cell_type": "code",
   "execution_count": null,
   "id": "22",
   "metadata": {},
   "outputs": [],
   "source": [
    "import pandas as pd\n",
    "\n",
    "\n",
    "def simple_violin_plot(df, score_column, min_samples=10, figsize=(8, 6)):\n",
    "    \"\"\"\n",
    "    Create a simple horizontal violin plot like the image shown.\n",
    "    \"\"\"\n",
    "\n",
    "    # Filter methods with sufficient samples\n",
    "    method_counts = df[\"synthesis_method\"].value_counts()\n",
    "    valid_methods = method_counts[method_counts >= min_samples].index\n",
    "    df_filtered = df[df[\"synthesis_method\"].isin(valid_methods)].copy()\n",
    "\n",
    "    # Create the plot\n",
    "    fig, ax = plt.subplots(figsize=figsize)\n",
    "\n",
    "    # Horizontal violin plot\n",
    "    sns.violinplot(\n",
    "        data=df_filtered,\n",
    "        y=\"synthesis_method\",\n",
    "        x=score_column,\n",
    "        ax=ax,\n",
    "        color=\"mediumpurple\",\n",
    "        alpha=0.7,\n",
    "    )\n",
    "\n",
    "    # Clean up the plot\n",
    "    ax.set_xlabel(\n",
    "        score_column.replace(\"_score_llm\", \"\").replace(\"_\", \" \").title(),\n",
    "        fontsize=12,\n",
    "        fontweight=\"bold\",\n",
    "    )\n",
    "    ax.set_ylabel(\"\")\n",
    "    ax.set_xlim(0, 5)\n",
    "\n",
    "    # Remove top and right spines\n",
    "    sns.despine()\n",
    "\n",
    "    plt.tight_layout()\n",
    "    return fig\n",
    "\n",
    "\n",
    "# Usage for each score type:\n",
    "# fig1 = simple_violin_plot(df, 'material_extraction_score_llm')\n",
    "# fig2 = simple_violin_plot(df, 'structural_completeness_score_llm')\n",
    "# fig3 = simple_violin_plot(df, 'overall_score_llm')\n",
    "# plt.show()"
   ]
  },
  {
   "cell_type": "markdown",
   "id": "23",
   "metadata": {
    "id": "14"
   },
   "source": [
    "### **Handle missing values**\n"
   ]
  },
  {
   "cell_type": "markdown",
   "id": "24",
   "metadata": {
    "id": "15"
   },
   "source": [
    "Identify and address any missing values in the DataFrame.\n"
   ]
  },
  {
   "cell_type": "code",
   "execution_count": null,
   "id": "25",
   "metadata": {
    "colab": {
     "base_uri": "https://localhost:8080/"
    },
    "id": "16",
    "outputId": "577caeb0-1d62-4911-e471-812ec259b941"
   },
   "outputs": [],
   "source": [
    "missing_percentages = data.isnull().sum()\n",
    "print(\"Percentage of missing values per column:\")\n",
    "print(missing_percentages)\n",
    "if \"images\" in data.columns:\n",
    "    data = data.drop(\"images\", axis=1)\n",
    "    print(\"\\n'images' column dropped.\")\n",
    "\n",
    "# Fill remaining missing values with \"N/A\"\n",
    "data = data.fillna(\"N/A\")\n",
    "print(\"\\nRemaining missing values filled with 'N/A'.\")\n",
    "\n",
    "# Verify that there are no more missing values\n",
    "print(\"\\nMissing values after handling:\")\n",
    "print(data.isnull().sum().sum())"
   ]
  },
  {
   "cell_type": "code",
   "execution_count": null,
   "id": "26",
   "metadata": {
    "id": "17"
   },
   "outputs": [],
   "source": [
    "# drop all rows where synthesized_material == \"No materials synthesized\"\n",
    "len(data[data[\"synthesized_material\"] == \"No materials synthesized\"])"
   ]
  },
  {
   "cell_type": "markdown",
   "id": "27",
   "metadata": {
    "id": "18"
   },
   "source": [
    "## **Data Visualisation**\n"
   ]
  },
  {
   "cell_type": "markdown",
   "id": "28",
   "metadata": {
    "id": "19"
   },
   "source": [
    "Create visualizations to understand the distribution and relationships within the data.\n"
   ]
  },
  {
   "cell_type": "markdown",
   "id": "29",
   "metadata": {
    "id": "20"
   },
   "source": [
    "### **Summary statistics of all categorical variables**\n"
   ]
  },
  {
   "cell_type": "code",
   "execution_count": null,
   "id": "30",
   "metadata": {
    "colab": {
     "base_uri": "https://localhost:8080/",
     "height": 246
    },
    "id": "21",
    "outputId": "21d0bef7-3f0b-42ae-d7f9-778fbf74d8d1"
   },
   "outputs": [],
   "source": [
    "# Explore basic summary statistics of categorical variables.\n",
    "data.describe(include=[\"object\"])"
   ]
  },
  {
   "cell_type": "markdown",
   "id": "31",
   "metadata": {
    "id": "22"
   },
   "source": [
    "### **Word cloud of actions**\n"
   ]
  },
  {
   "cell_type": "code",
   "execution_count": null,
   "id": "32",
   "metadata": {
    "colab": {
     "base_uri": "https://localhost:8080/",
     "height": 563
    },
    "id": "23",
    "outputId": "26660db5-f2bb-4aae-cf4d-82d1c2a6bbed"
   },
   "outputs": [],
   "source": [
    "# Extracting the actions from each step (simplified loop)\n",
    "actions = []\n",
    "for idx, raw in enumerate(data[\"structured_synthesis\"]):\n",
    "    try:\n",
    "        record = json.loads(raw) if isinstance(raw, str) else raw\n",
    "        for step in record.get(\"steps\", []):\n",
    "            action = step.get(\"action\")\n",
    "            if isinstance(action, str) and action:\n",
    "                actions.append(action)\n",
    "    except (json.JSONDecodeError, TypeError):\n",
    "        continue\n",
    "\n",
    "print(f\"Total actions extracted: {len(actions)}\")\n",
    "\n",
    "# Frequency calculation\n",
    "freq = Counter(actions)\n",
    "\n",
    "# Preparation and generation of the word cloud\n",
    "if freq:\n",
    "    wc = WordCloud(\n",
    "        width=800,\n",
    "        height=400,\n",
    "        background_color=\"white\",\n",
    "        colormap=\"tab10\",\n",
    "        relative_scaling=0.5,\n",
    "        normalize_plurals=False,\n",
    "    )\n",
    "    wc.generate_from_frequencies(freq)\n",
    "\n",
    "    # Display\n",
    "    plt.figure(figsize=(12, 6))\n",
    "    plt.imshow(wc, interpolation=\"bilinear\")\n",
    "    plt.axis(\"off\")\n",
    "    plt.title(\n",
    "        \"Word cloud of summary actions (size ∝ frequency))\", fontsize=18, pad=20\n",
    "    )\n",
    "    plt.show()\n",
    "else:\n",
    "    print(\"No actions found to generate a word cloud.\")"
   ]
  },
  {
   "cell_type": "code",
   "execution_count": null,
   "id": "33",
   "metadata": {
    "colab": {
     "base_uri": "https://localhost:8080/",
     "height": 315
    },
    "id": "24",
    "outputId": "c3961ff9-09e9-4e64-d872-ee5bd31d6736"
   },
   "outputs": [],
   "source": [
    "# Create bar plot sorted by frequency (descending order)\n",
    "plt.figure(figsize=(50, 6))\n",
    "\n",
    "sorted_categories = sorted(freq.keys(), key=freq.get, reverse=True)\n",
    "\n",
    "sns.barplot(x=list(freq.keys()), y=list(freq.values()), order=sorted_categories)\n",
    "plt.xticks(rotation=45, ha=\"right\")\n",
    "plt.xlabel(\"Materials/Processes\")\n",
    "plt.ylabel(\"Frequency\")\n",
    "plt.title(\"Frequency of Synthesized Materials (Using order parameter)\")\n",
    "plt.tight_layout()\n",
    "plt.show()"
   ]
  },
  {
   "cell_type": "code",
   "execution_count": null,
   "id": "34",
   "metadata": {},
   "outputs": [],
   "source": [
    "# limit to 20 most common actions\n",
    "sorted_categories = sorted_categories[:20]\n",
    "\n",
    "sns.barplot(x=list(freq.keys()), y=list(freq.values()), order=sorted_categories)\n",
    "plt.xticks(rotation=90, ha=\"right\")\n",
    "plt.xlabel(\"Materials/Processes\")\n",
    "plt.ylabel(\"Frequency\")\n",
    "plt.title(\"Frequency of Synthesized Materials (Using order parameter)\")\n",
    "plt.tight_layout()\n",
    "plt.show()"
   ]
  },
  {
   "cell_type": "markdown",
   "id": "35",
   "metadata": {
    "id": "26"
   },
   "source": [
    "### **Distribution of source**\n"
   ]
  },
  {
   "cell_type": "code",
   "execution_count": null,
   "id": "36",
   "metadata": {
    "colab": {
     "base_uri": "https://localhost:8080/",
     "height": 564
    },
    "id": "27",
    "outputId": "ef2a18c8-eae3-4fe2-c291-3fcce159b12c"
   },
   "outputs": [],
   "source": [
    "# Create a countplot of the 'source' column\n",
    "plt.figure(figsize=(8, 6))\n",
    "sns.countplot(data=data, x=\"source\")\n",
    "plt.title(\"Distribution of Data Sources\")\n",
    "plt.show()"
   ]
  },
  {
   "cell_type": "code",
   "execution_count": null,
   "id": "37",
   "metadata": {},
   "outputs": [],
   "source": [
    "# Create a countplot of the 'source' column\n",
    "plt.figure(figsize=(8, 6))\n",
    "sns.countplot(data=data, x=\"source_dataset\")\n",
    "plt.title(\"Distribution of Data Sources\")\n",
    "plt.show()"
   ]
  },
  {
   "cell_type": "code",
   "execution_count": null,
   "id": "38",
   "metadata": {
    "colab": {
     "base_uri": "https://localhost:8080/",
     "height": 303
    },
    "id": "28",
    "outputId": "479b5aaa-8299-4c9c-95ae-68df14377e82"
   },
   "outputs": [],
   "source": [
    "data[\"source\"].value_counts()"
   ]
  },
  {
   "cell_type": "markdown",
   "id": "39",
   "metadata": {
    "id": "29"
   },
   "source": [
    "### **Top of synthetized materials**\n"
   ]
  },
  {
   "cell_type": "code",
   "execution_count": null,
   "id": "40",
   "metadata": {
    "colab": {
     "base_uri": "https://localhost:8080/",
     "height": 707
    },
    "id": "30",
    "outputId": "32df4474-d55c-4166-c5d3-89ac76fdace2"
   },
   "outputs": [],
   "source": [
    "# Simple cleaning function\n",
    "def clean_material(material):\n",
    "    if isinstance(material, str):\n",
    "        material = re.sub(r\"[^a-zA-Z0-9\\s]\", \"\", material).strip().capitalize()\n",
    "        # Exclude generic terms, missing values, and \"No materials synthesized\"\n",
    "        if material.lower() not in [\n",
    "            \"na\",\n",
    "            \"n/a\",\n",
    "            \"other\",\n",
    "            \"others\",\n",
    "            \"no materials synthesized\",\n",
    "        ]:\n",
    "            return material\n",
    "    return None\n",
    "\n",
    "\n",
    "# Apply cleaning to 'synthesized_material'\n",
    "data[\"cleaned_synthesized_material\"] = data[\"synthesized_material\"].apply(\n",
    "    clean_material\n",
    ")\n",
    "\n",
    "# Count the occurrences of valid synthesized materials\n",
    "material_counts = Counter(data[\"cleaned_synthesized_material\"].dropna())\n",
    "\n",
    "# Convert to DataFrame for visualisation\n",
    "df_materials = pd.DataFrame(\n",
    "    material_counts.most_common(15), columns=[\"Synthesized Material\", \"Count\"]\n",
    ")\n",
    "\n",
    "# Displaying with Seaborn\n",
    "plt.figure(figsize=(12, 7))\n",
    "sns.barplot(data=df_materials, x=\"Count\", y=\"Synthesized Material\")\n",
    "plt.title(\"Top 15 Most Frequent Synthesized Materials\")\n",
    "plt.xlabel(\"Number of Occurrences\")\n",
    "plt.ylabel(\"Synthesized Material\")\n",
    "plt.tight_layout()\n",
    "plt.show()"
   ]
  },
  {
   "cell_type": "markdown",
   "id": "41",
   "metadata": {
    "id": "31"
   },
   "source": [
    "### **Frenquency of material categories**\n"
   ]
  },
  {
   "cell_type": "code",
   "execution_count": null,
   "id": "42",
   "metadata": {
    "colab": {
     "base_uri": "https://localhost:8080/",
     "height": 707
    },
    "id": "32",
    "outputId": "895c3678-8398-456a-c9c1-08e03dd40d73"
   },
   "outputs": [],
   "source": [
    "# Simplified function for cleaning a single category\n",
    "def clean_category(cat):\n",
    "    if isinstance(cat, str):\n",
    "        cat = re.sub(r\"[^a-zA-Z0-9\\s]\", \"\", cat).strip()\n",
    "        cat = cat.capitalize()\n",
    "        if cat.lower() not in [\n",
    "            \"material\",\n",
    "            \"science\",\n",
    "            \"others\",\n",
    "            \"n/a\",\n",
    "            \"other\",\n",
    "            \"na\",\n",
    "        ]:  # Filters out irrelevant cases\n",
    "            return cat\n",
    "    return None\n",
    "\n",
    "\n",
    "# Apply cleaning\n",
    "data[\"cleaned_category\"] = data[\"material_category\"].apply(clean_category)\n",
    "\n",
    "# Count the occurrences of valid categories\n",
    "category_counts = Counter(data[\"cleaned_category\"].dropna())\n",
    "\n",
    "# Convert to DataFrame for visualisation\n",
    "df_categories = pd.DataFrame(\n",
    "    category_counts.most_common(50), columns=[\"Category\", \"Count\"]\n",
    ")\n",
    "\n",
    "# Displaying with Seaborn\n",
    "plt.figure(figsize=(8, 6))\n",
    "sns.barplot(data=df_categories, x=\"Count\", y=\"Category\")\n",
    "plt.title(\"Top 15 Material Categories\")\n",
    "plt.xlabel(\"Number of Occurrences\")\n",
    "plt.ylabel(\"Category\")\n",
    "plt.tight_layout()\n",
    "plt.show()"
   ]
  },
  {
   "cell_type": "code",
   "execution_count": null,
   "id": "43",
   "metadata": {
    "colab": {
     "base_uri": "https://localhost:8080/",
     "height": 542
    },
    "id": "33",
    "outputId": "935f9072-c0ad-4baa-d1f8-4c791c2831a8"
   },
   "outputs": [],
   "source": [
    "# Combine categories from all sources with category data\n",
    "all_categories = []\n",
    "# Using the main 'data' DataFrame and iterating through rows\n",
    "if \"data\" in globals():\n",
    "    for index, row in data.iterrows():\n",
    "        # Use the cleaned categories if available, otherwise clean them here\n",
    "        categories = row.get(\"cleaned_categories\")\n",
    "        if categories is None or not isinstance(categories, list):\n",
    "            # If not available or not a list, clean from the original 'categories' column\n",
    "            # Re-using the cleaning logic from elsewhere for consistency\n",
    "            def clean_single_category_entry(categories_list):\n",
    "                cleaned = []\n",
    "                if isinstance(categories_list, str):\n",
    "                    try:\n",
    "                        categories_list = ast.literal_eval(categories_list)\n",
    "                    except (ValueError, SyntaxError):\n",
    "                        categories_list = [categories_list]\n",
    "\n",
    "                if isinstance(categories_list, list):\n",
    "                    for category in categories_list:\n",
    "                        if isinstance(category, str):\n",
    "                            for part in category.split(\",\"):\n",
    "                                for sub_part in part.split(\";\"):\n",
    "                                    cleaned_category = sub_part.strip()\n",
    "                                    if cleaned_category:\n",
    "                                        cleaned.append(cleaned_category)\n",
    "                return cleaned\n",
    "\n",
    "            categories = clean_single_category_entry(row[\"material_category\"])\n",
    "\n",
    "        # Filter out 'N/A', 'Other', 'Others', 'NA' (case-insensitive)\n",
    "        filtered_categories = [\n",
    "            cat\n",
    "            for cat in categories\n",
    "            if isinstance(cat, str)\n",
    "            and cat.lower() not in [\"n/a\", \"other\", \"others\", \"na\"]\n",
    "        ]\n",
    "        all_categories.extend(filtered_categories)\n",
    "\n",
    "if all_categories:\n",
    "    # Count the frequency of each category\n",
    "    category_counts = Counter(all_categories)\n",
    "    category_df = pd.DataFrame(\n",
    "        category_counts.items(), columns=[\"Category\", \"Count\"]\n",
    "    )\n",
    "\n",
    "    # Create a treemap\n",
    "    fig = px.treemap(\n",
    "        category_df,\n",
    "        path=[\"Category\"],\n",
    "        values=\"Count\",\n",
    "        title=\"Interactive Treemap of Material Categories\",\n",
    "    )\n",
    "    fig.show()\n",
    "else:\n",
    "    print(\"No category data available to create a treemap after filtering.\")"
   ]
  },
  {
   "cell_type": "markdown",
   "id": "44",
   "metadata": {
    "id": "34"
   },
   "source": [
    "### **Top of synthesis methods**\n"
   ]
  },
  {
   "cell_type": "code",
   "execution_count": null,
   "id": "45",
   "metadata": {
    "colab": {
     "base_uri": "https://localhost:8080/",
     "height": 707
    },
    "id": "35",
    "outputId": "654d6fe7-45e0-404f-ca0a-dd89e98f025a"
   },
   "outputs": [],
   "source": [
    "# Apply cleaning to 'synthesis_method'\n",
    "data[\"cleaned_synthesis_method\"] = data[\"synthesis_method\"].apply(\n",
    "    clean_category\n",
    ")\n",
    "\n",
    "# Count the occurrences of valid synthesis methods\n",
    "method_counts = Counter(data[\"cleaned_synthesis_method\"].dropna())\n",
    "\n",
    "# Convert to DataFrame for visualisation\n",
    "df_methods = pd.DataFrame(\n",
    "    method_counts.most_common(50), columns=[\"Method\", \"Count\"]\n",
    ")\n",
    "\n",
    "# Displaying with Seaborn\n",
    "plt.figure(figsize=(8, 6))\n",
    "sns.barplot(data=df_methods, x=\"Count\", y=\"Method\")\n",
    "plt.title(\"Top 15 Synthesis Methods\")\n",
    "plt.xlabel(\"Number of Occurrences\")\n",
    "plt.ylabel(\"Method\")\n",
    "plt.tight_layout()\n",
    "plt.show()"
   ]
  },
  {
   "cell_type": "markdown",
   "id": "46",
   "metadata": {
    "id": "36"
   },
   "source": [
    "## **Advanced data exploration**\n"
   ]
  },
  {
   "cell_type": "markdown",
   "id": "47",
   "metadata": {
    "id": "37"
   },
   "source": [
    "Perform a deeper dive into the dataset by exploring relationships between columns.\n"
   ]
  },
  {
   "cell_type": "markdown",
   "id": "48",
   "metadata": {
    "id": "38"
   },
   "source": [
    "### **Correlation between synthesized materials and material categories**\n"
   ]
  },
  {
   "cell_type": "code",
   "execution_count": null,
   "id": "49",
   "metadata": {
    "colab": {
     "base_uri": "https://localhost:8080/",
     "height": 768
    },
    "id": "39",
    "outputId": "922c3a57-f294-4c5e-9b84-64623263480c"
   },
   "outputs": [],
   "source": [
    "# Easy cleaning\n",
    "def clean(text):\n",
    "    if isinstance(text, str):\n",
    "        text = re.sub(r\"[^a-zA-Z0-9\\s]\", \"\", text).strip().capitalize()\n",
    "        if text.lower() not in [\n",
    "            \"material\",\n",
    "            \"science\",\n",
    "            \"others\",\n",
    "            \"other\",\n",
    "            \"n/a\",\n",
    "            \"na\",\n",
    "        ]:\n",
    "            return text\n",
    "    return None\n",
    "\n",
    "\n",
    "# Clean both columns\n",
    "data[\"clean_material\"] = data[\"material_category\"].apply(clean)\n",
    "data[\"clean_synth\"] = data[\"synthesized_material\"].apply(clean)\n",
    "\n",
    "# Delete rows where either of the two is empty\n",
    "df = data.dropna(subset=[\"clean_material\", \"clean_synth\"])\n",
    "\n",
    "# Group and count pairs\n",
    "grouped = (\n",
    "    df.groupby([\"clean_synth\", \"clean_material\"])\n",
    "    .size()\n",
    "    .reset_index(name=\"count\")\n",
    ")\n",
    "\n",
    "# Choose the best synthesised materials to avoid overload\n",
    "top_synths = (\n",
    "    grouped.groupby(\"clean_synth\")[\"count\"]\n",
    "    .sum()\n",
    "    .sort_values(ascending=False)\n",
    "    .head(15)\n",
    "    .index\n",
    ")\n",
    "filtered = grouped[grouped[\"clean_synth\"].isin(top_synths)]\n",
    "\n",
    "# Grouped plot\n",
    "plt.figure(figsize=(16, 8))\n",
    "sns.barplot(\n",
    "    data=filtered,\n",
    "    x=\"clean_synth\",\n",
    "    y=\"count\",\n",
    "    hue=\"clean_material\",\n",
    "    palette=\"tab10\",\n",
    "    dodge=False,\n",
    ")\n",
    "\n",
    "plt.title(\"Top 15 Synthesized Materials by Material Category\")\n",
    "plt.xlabel(\"Synthesized Material\")\n",
    "plt.ylabel(\"Number of Occurrences\")\n",
    "plt.xticks(rotation=90, ha=\"center\")\n",
    "\n",
    "plt.legend(\n",
    "    title=\"Material Category\", bbox_to_anchor=(1.05, 1), loc=\"upper left\"\n",
    ")\n",
    "plt.tight_layout()\n",
    "plt.show()"
   ]
  },
  {
   "cell_type": "markdown",
   "id": "50",
   "metadata": {
    "id": "40"
   },
   "source": [
    "### **Correlation between synthesized materials and synthesis methods**\n"
   ]
  },
  {
   "cell_type": "code",
   "execution_count": null,
   "id": "51",
   "metadata": {
    "colab": {
     "base_uri": "https://localhost:8080/",
     "height": 1000
    },
    "id": "41",
    "outputId": "a635e91e-64d1-4c3e-c837-4a82da2e2e8d"
   },
   "outputs": [],
   "source": [
    "data[\"clean_method\"] = data[\"synthesis_method\"].apply(clean)\n",
    "\n",
    "# Create a crosstab (pivot table)\n",
    "pivot_table = pd.crosstab(data[\"clean_synth\"], data[\"clean_method\"])\n",
    "\n",
    "# Get the top 15 most synthesized materials\n",
    "top_synths = pivot_table.sum(axis=1).sort_values(ascending=False).head(15).index\n",
    "\n",
    "# Filter the pivot table to include only the top 15 materials\n",
    "filtered_pivot_table = pivot_table.loc[top_synths]\n",
    "\n",
    "# Display as a heatmap\n",
    "plt.figure(figsize=(16, 10))\n",
    "sns.heatmap(filtered_pivot_table, linewidths=0.5, annot=False)\n",
    "plt.title(\"Heatmap: Top 15 Synthesized Materials vs Synthesis Method\")\n",
    "plt.xlabel(\"Synthesis Method\")\n",
    "plt.ylabel(\"Synthesized Material\")\n",
    "plt.tight_layout()\n",
    "plt.show()"
   ]
  },
  {
   "cell_type": "code",
   "execution_count": null,
   "id": "52",
   "metadata": {},
   "outputs": [],
   "source": [
    "data[\"clean_method\"] = data[\"synthesis_method\"].apply(clean)\n",
    "\n",
    "# Create a crosstab (pivot table)\n",
    "pivot_table = pd.crosstab(data[\"clean_synth\"], data[\"clean_method\"])\n",
    "\n",
    "# Get the top 15 most synthesized materials\n",
    "top_synths = pivot_table.sum(axis=1).sort_values(ascending=False).head(15).index\n",
    "\n",
    "# Filter the pivot table to include only the top 15 materials\n",
    "filtered_pivot_table = pivot_table.loc[top_synths]\n",
    "\n",
    "# Display as a heatmap\n",
    "plt.figure(figsize=(16, 10))\n",
    "sns.heatmap(filtered_pivot_table, linewidths=0.5, annot=False)\n",
    "plt.title(\"Heatmap: Top 15 Synthesized Materials vs Synthesis Method\")\n",
    "plt.xlabel(\"Synthesis Method\")\n",
    "plt.ylabel(\"Synthesized Material\")\n",
    "plt.tight_layout()\n",
    "plt.show()"
   ]
  },
  {
   "cell_type": "code",
   "execution_count": null,
   "id": "53",
   "metadata": {},
   "outputs": [],
   "source": [
    "data.columns"
   ]
  },
  {
   "cell_type": "code",
   "execution_count": null,
   "id": "54",
   "metadata": {
    "colab": {
     "base_uri": "https://localhost:8080/",
     "height": 767
    },
    "id": "42",
    "outputId": "abed9ee8-33d8-4fe4-fb56-fdcfaa67e2c7"
   },
   "outputs": [],
   "source": [
    "# Delete rows where either of the two is empty\n",
    "df = data.dropna(subset=[\"clean_method\", \"clean_material\"])\n",
    "\n",
    "# Group and count pairs\n",
    "grouped = (\n",
    "    df.groupby([\"clean_material\", \"clean_method\"])\n",
    "    .size()\n",
    "    .reset_index(name=\"count\")\n",
    ")\n",
    "\n",
    "# Choose the best synthesised materials to avoid overload\n",
    "top_synths = (\n",
    "    grouped.groupby(\"clean_material\")[\"count\"]\n",
    "    .sum()\n",
    "    .sort_values(ascending=False)\n",
    "    .head(15)\n",
    "    .index\n",
    ")\n",
    "filtered = grouped[grouped[\"clean_material\"].isin(top_synths)]\n",
    "\n",
    "# 1. Pivot the data to a \"wide\" format suitable for stacking\n",
    "pivot_df = filtered.pivot_table(\n",
    "    index=\"clean_material\",\n",
    "    columns=\"clean_method\",\n",
    "    values=\"count\",\n",
    "    fill_value=0,  # Fills in 0 for any material/method pair that doesn't exist\n",
    ")\n",
    "\n",
    "# 2. Reorder the data to match the top 15 sorted list\n",
    "pivot_df = pivot_df.reindex(top_synths)\n",
    "\n",
    "# 3. Create the stacked bar plot from the new pivoted DataFrame\n",
    "ax = pivot_df.plot(\n",
    "    kind=\"bar\", stacked=True, figsize=(16, 8), width=0.8, colormap=\"tab20\"\n",
    ")\n",
    "\n",
    "plt.title(\"Top 15 Synthesized Materials by Synthesis Methods\", fontsize=16)\n",
    "plt.xlabel(\"Synthesized Material\", fontsize=12)\n",
    "plt.ylabel(\"Number of Occurrences\", fontsize=12)\n",
    "plt.xticks(rotation=45, ha=\"right\")\n",
    "plt.legend(\n",
    "    title=\"Synthesis Methods\", bbox_to_anchor=(1.02, 1), loc=\"upper left\"\n",
    ")\n",
    "plt.tight_layout()\n",
    "plt.show()"
   ]
  },
  {
   "cell_type": "code",
   "execution_count": null,
   "id": "55",
   "metadata": {},
   "outputs": [],
   "source": [
    "# Delete rows where either of the two is empty\n",
    "df = data.dropna(subset=[\"clean_method\", \"clean_material\"])\n",
    "\n",
    "# Group and count pairs\n",
    "grouped = (\n",
    "    df.groupby([\"clean_material\", \"clean_method\"])\n",
    "    .size()\n",
    "    .reset_index(name=\"count\")\n",
    ")\n",
    "filtered = grouped\n",
    "\n",
    "# 1. Pivot the data to a \"wide\" format suitable for stacking\n",
    "pivot_df = filtered.pivot_table(\n",
    "    index=\"clean_material\",\n",
    "    columns=\"clean_method\",\n",
    "    values=\"count\",\n",
    "    fill_value=0,  # Fills in 0 for any material/method pair that doesn't exist\n",
    ")\n",
    "\n",
    "# 3. Create the stacked bar plot from the new pivoted DataFrame\n",
    "ax = pivot_df.plot(\n",
    "    kind=\"bar\", stacked=True, figsize=(16, 8), width=0.8, colormap=\"tab20\"\n",
    ")\n",
    "\n",
    "plt.title(\"Top 15 Synthesized Materials by Synthesis Methods\", fontsize=16)\n",
    "plt.xlabel(\"Synthesized Material\", fontsize=12)\n",
    "plt.ylabel(\"Number of Occurrences\", fontsize=12)\n",
    "plt.xticks(rotation=45, ha=\"right\")\n",
    "plt.legend(\n",
    "    title=\"Synthesis Methods\", bbox_to_anchor=(1.02, 1), loc=\"upper left\"\n",
    ")\n",
    "plt.tight_layout()\n",
    "plt.show()"
   ]
  },
  {
   "cell_type": "code",
   "execution_count": null,
   "id": "56",
   "metadata": {},
   "outputs": [],
   "source": [
    "# Delete rows where either of the two is empty\n",
    "df = data.dropna(subset=[\"clean_method\", \"clean_material\"])\n",
    "\n",
    "# Group and count pairs (switch order: method, material)\n",
    "grouped = (\n",
    "    df.groupby([\"clean_method\", \"clean_material\"])\n",
    "    .size()\n",
    "    .reset_index(name=\"count\")\n",
    ")\n",
    "filtered = grouped\n",
    "\n",
    "# Pivot the data: methods as index (x-axis), materials as columns (legend)\n",
    "pivot_df = filtered.pivot_table(\n",
    "    index=\"clean_method\",\n",
    "    columns=\"clean_material\",\n",
    "    values=\"count\",\n",
    "    fill_value=0,  # Fills in 0 for any method/material pair that doesn't exist\n",
    ")\n",
    "\n",
    "# Optionally, sort by total occurrences for better visualization\n",
    "method_order = pivot_df.sum(axis=1).sort_values(ascending=False).index\n",
    "pivot_df = pivot_df.reindex(method_order)\n",
    "\n",
    "# Create the stacked bar plot from the new pivoted DataFrame\n",
    "ax = pivot_df.plot(\n",
    "    kind=\"bar\", stacked=True, figsize=(16, 8), width=0.8, colormap=\"tab20\"\n",
    ")\n",
    "\n",
    "plt.title(\"Top 15 Synthesis Methods by Synthesized Materials\", fontsize=16)\n",
    "plt.xlabel(\"Synthesis Method\", fontsize=12)\n",
    "plt.ylabel(\"Number of Occurrences\", fontsize=12)\n",
    "plt.xticks(rotation=45, ha=\"right\")\n",
    "plt.legend(\n",
    "    title=\"Synthesized Materials\", bbox_to_anchor=(1.02, 1), loc=\"upper left\"\n",
    ")\n",
    "plt.tight_layout()\n",
    "plt.show()"
   ]
  },
  {
   "cell_type": "code",
   "execution_count": null,
   "id": "57",
   "metadata": {},
   "outputs": [],
   "source": [
    "# Delete rows where either of the two is empty\n",
    "df = data.dropna(subset=[\"clean_method\", \"clean_material\"])\n",
    "\n",
    "# Group and count pairs (switch order: method, material)\n",
    "grouped = (\n",
    "    df.groupby([\"clean_method\", \"clean_material\"])\n",
    "    .size()\n",
    "    .reset_index(name=\"count\")\n",
    ")\n",
    "filtered = grouped\n",
    "\n",
    "# Pivot the data: methods as index (x-axis), materials as columns (legend)\n",
    "pivot_df = filtered.pivot_table(\n",
    "    index=\"clean_method\",\n",
    "    columns=\"clean_material\",\n",
    "    values=\"count\",\n",
    "    fill_value=0,  # Fills in 0 for any method/material pair that doesn't exist\n",
    ")\n",
    "\n",
    "# Limit to top 15 synthesis methods by total occurrences\n",
    "method_order = pivot_df.sum(axis=1).sort_values(ascending=False).index[:15]\n",
    "pivot_df = pivot_df.loc[method_order]\n",
    "\n",
    "# Create the stacked bar plot from the new pivoted DataFrame\n",
    "ax = pivot_df.plot(\n",
    "    kind=\"bar\", stacked=True, figsize=(16, 8), width=0.8, colormap=\"tab20\"\n",
    ")\n",
    "\n",
    "plt.title(\"Top 15 Synthesis Methods by Synthesized Materials\", fontsize=16)\n",
    "plt.xlabel(\"Synthesis Method\", fontsize=12)\n",
    "plt.ylabel(\"Number of Occurrences\", fontsize=12)\n",
    "plt.xticks(rotation=45, ha=\"right\")\n",
    "plt.legend(\n",
    "    title=\"Synthesized Materials\", bbox_to_anchor=(1.02, 1), loc=\"upper left\"\n",
    ")\n",
    "plt.tight_layout()\n",
    "plt.show()"
   ]
  },
  {
   "cell_type": "markdown",
   "id": "58",
   "metadata": {
    "id": "44"
   },
   "source": [
    "### **Synthesis Methods by source**\n"
   ]
  },
  {
   "cell_type": "code",
   "execution_count": null,
   "id": "59",
   "metadata": {
    "colab": {
     "base_uri": "https://localhost:8080/",
     "height": 766
    },
    "id": "45",
    "outputId": "db7202f4-b091-4e5a-92ce-3509b9baafe6"
   },
   "outputs": [],
   "source": [
    "# Clean synthesis methods\n",
    "def clean_method(method):\n",
    "    if isinstance(method, str):\n",
    "        method = re.sub(r\"[^a-zA-Z0-9\\s]\", \"\", method).strip().capitalize()\n",
    "        if method.lower() not in [\"na\", \"n/a\", \"other\", \"others\"]:\n",
    "            return method\n",
    "    return None\n",
    "\n",
    "\n",
    "# Clean source names\n",
    "data[\"clean_method\"] = data[\"synthesis_method\"].apply(clean_method)\n",
    "data[\"clean_source\"] = (\n",
    "    data[\"source\"]\n",
    "    .astype(str)\n",
    "    .str.replace(\n",
    "        r\"^www\\.|^onlinelibrary\\.|\\.(org|com|net|edu|info)$\", \"\", regex=True\n",
    "    )\n",
    ")\n",
    "\n",
    "# Drop rows with missing values\n",
    "df = data.dropna(subset=[\"clean_method\", \"clean_source\"])\n",
    "\n",
    "# Group and count occurrences\n",
    "grouped = (\n",
    "    df.groupby([\"clean_method\", \"clean_source\"])\n",
    "    .size()\n",
    "    .reset_index(name=\"count\")\n",
    ")\n",
    "\n",
    "# --- FILTERING AND PIVOTING ---\n",
    "\n",
    "# 1. Identify top 10 most common methods\n",
    "top_methods_order = (\n",
    "    grouped.groupby(\"clean_method\")[\"count\"]\n",
    "    .sum()\n",
    "    .sort_values(ascending=False)\n",
    "    .head(10)\n",
    "    .index\n",
    ")\n",
    "\n",
    "# 2. Filter to top methods only\n",
    "filtered = grouped[grouped[\"clean_method\"].isin(top_methods_order)]\n",
    "\n",
    "# 3. Pivot to wide format (methods as rows, sources as columns)\n",
    "pivot_df = filtered.pivot_table(\n",
    "    index=\"clean_method\", columns=\"clean_source\", values=\"count\", fill_value=0\n",
    ")\n",
    "\n",
    "# 4. Reorder methods in the DataFrame\n",
    "pivot_df = pivot_df.reindex(top_methods_order)\n",
    "\n",
    "# --- PLOTTING STACKED BAR CHART ---\n",
    "\n",
    "# Create the stacked bar plot\n",
    "ax = pivot_df.plot(\n",
    "    kind=\"bar\", stacked=True, figsize=(16, 8), width=0.8, colormap=\"Set2\"\n",
    ")\n",
    "\n",
    "# Add labels and styling\n",
    "plt.title(\"Top 10 Synthesis Methods by Source\", fontsize=16)\n",
    "plt.xlabel(\"Synthesis Method\", fontsize=12)\n",
    "plt.ylabel(\"Number of Publications\", fontsize=12)\n",
    "plt.xticks(rotation=90, ha=\"center\")\n",
    "plt.legend(title=\"Source\", bbox_to_anchor=(1.02, 1), loc=\"upper left\")\n",
    "plt.tight_layout()\n",
    "plt.show()"
   ]
  },
  {
   "cell_type": "markdown",
   "id": "60",
   "metadata": {
    "id": "47"
   },
   "source": [
    "### **Synthesized Materials by source**\n"
   ]
  },
  {
   "cell_type": "code",
   "execution_count": null,
   "id": "61",
   "metadata": {
    "colab": {
     "base_uri": "https://localhost:8080/",
     "height": 766
    },
    "id": "48",
    "outputId": "d7974654-1b3f-4c57-d376-0c1e9efe82b1"
   },
   "outputs": [],
   "source": [
    "# Clean synthesis methods\n",
    "def clean_synth(synth):\n",
    "    if isinstance(synth, str):\n",
    "        synth = re.sub(r\"[^a-zA-Z0-9\\s]\", \"\", synth).strip().capitalize()\n",
    "        if synth.lower() not in [\"na\", \"n/a\", \"other\", \"others\"]:\n",
    "            return synth\n",
    "    return None\n",
    "\n",
    "\n",
    "# Clean source names\n",
    "data[\"clean_synth\"] = data[\"synthesized_material\"].apply(clean_synth)\n",
    "data[\"clean_source\"] = (\n",
    "    data[\"source\"]\n",
    "    .astype(str)\n",
    "    .str.replace(\n",
    "        r\"^www\\.|^onlinelibrary\\.|\\.(org|com|net|edu|info)$\", \"\", regex=True\n",
    "    )\n",
    ")\n",
    "\n",
    "# Drop rows with missing values\n",
    "df = data.dropna(subset=[\"clean_synth\", \"clean_source\"])\n",
    "\n",
    "# Group and count occurrences\n",
    "grouped = (\n",
    "    df.groupby([\"clean_synth\", \"clean_source\"]).size().reset_index(name=\"count\")\n",
    ")\n",
    "\n",
    "# --- FILTERING AND PIVOTING ---\n",
    "\n",
    "# 1. Identify top 10 most common synthesized materials\n",
    "top_synth_order = (\n",
    "    grouped.groupby(\"clean_synth\")[\"count\"]\n",
    "    .sum()\n",
    "    .sort_values(ascending=False)\n",
    "    .head(10)\n",
    "    .index\n",
    ")\n",
    "\n",
    "# 2. Filter to top synthesized materials only\n",
    "filtered = grouped[grouped[\"clean_synth\"].isin(top_synth_order)]\n",
    "\n",
    "# 3. Pivot to wide format (synthesized materials as rows, sources as columns)\n",
    "pivot_df = filtered.pivot_table(\n",
    "    index=\"clean_synth\", columns=\"clean_source\", values=\"count\", fill_value=0\n",
    ")\n",
    "\n",
    "# 4. Reorder synthesized materials in the DataFrame\n",
    "pivot_df = pivot_df.reindex(top_synth_order)\n",
    "\n",
    "# Create the stacked bar plot\n",
    "ax = pivot_df.plot(\n",
    "    kind=\"bar\", stacked=True, figsize=(16, 8), width=0.8, colormap=\"Set2\"\n",
    ")\n",
    "\n",
    "# Add labels and styling\n",
    "plt.title(\"Top 10 Synthesized Materials by Source\", fontsize=16)\n",
    "plt.xlabel(\"Synthesized Materials\", fontsize=12)\n",
    "plt.ylabel(\"Number of Publications\", fontsize=12)\n",
    "plt.xticks(rotation=90, ha=\"center\")\n",
    "plt.legend(title=\"Source\", bbox_to_anchor=(1.02, 1), loc=\"upper left\")\n",
    "plt.tight_layout()\n",
    "plt.show()"
   ]
  },
  {
   "cell_type": "markdown",
   "id": "62",
   "metadata": {
    "id": "e4352d54"
   },
   "source": [
    "### **Average Number of Procedure Steps**\n"
   ]
  },
  {
   "cell_type": "code",
   "execution_count": null,
   "id": "63",
   "metadata": {
    "colab": {
     "base_uri": "https://localhost:8080/",
     "height": 716
    },
    "id": "eb9958c6",
    "outputId": "11ba00c9-7926-413e-9c49-2ad5f4adfc1e"
   },
   "outputs": [],
   "source": [
    "# Calculate the number of steps for each synthesis procedure\n",
    "step_counts = []\n",
    "\n",
    "for idx, raw in enumerate(data[\"structured_synthesis\"]):\n",
    "    try:\n",
    "        # Parse the JSON data\n",
    "        record = json.loads(raw) if isinstance(raw, str) else raw\n",
    "\n",
    "        # Count the number of steps\n",
    "        num_steps = len(record.get(\"steps\", []))\n",
    "        step_counts.append(num_steps)\n",
    "\n",
    "    except (json.JSONDecodeError, TypeError, AttributeError):\n",
    "        # If parsing fails, append 0 or skip\n",
    "        step_counts.append(0)\n",
    "\n",
    "# Add the step counts as a new column to the dataframe\n",
    "data[\"num_steps\"] = step_counts\n",
    "\n",
    "# Calculate statistics\n",
    "total_procedures = len(step_counts)\n",
    "valid_procedures = sum(1 for count in step_counts if count > 0)\n",
    "average_steps = sum(step_counts) / len(step_counts) if step_counts else 0\n",
    "average_steps_valid = (\n",
    "    sum(step_counts) / valid_procedures if valid_procedures > 0 else 0\n",
    ")\n",
    "\n",
    "print(f\"Total synthesis procedures: {total_procedures}\")\n",
    "print(f\"Valid procedures (with steps > 0): {valid_procedures}\")\n",
    "print(f\"Average number of steps (all procedures): {average_steps:.2f}\")\n",
    "print(\n",
    "    f\"Average number of steps (valid procedures only): {average_steps_valid:.2f}\"\n",
    ")\n",
    "print(f\"Minimum steps: {min(step_counts)}\")\n",
    "print(f\"Maximum steps: {max(step_counts)}\")\n",
    "\n",
    "# Determine the maximum number of steps for setting consistent x-limits\n",
    "max_steps = max(step_counts) if step_counts else 0\n",
    "x_limit = max_steps + 1  # Add a small buffer\n",
    "\n",
    "# Display distribution of step counts\n",
    "plt.figure(figsize=(12, 6))\n",
    "\n",
    "plt.subplot(1, 2, 1)\n",
    "plt.hist(\n",
    "    step_counts, bins=range(0, max_steps + 2), alpha=0.7, edgecolor=\"black\"\n",
    ")\n",
    "plt.title(\"Distribution of Number of Procedure Steps\")\n",
    "plt.xlabel(\"Number of Procedure Steps\")\n",
    "plt.ylabel(\"Frequency\")\n",
    "plt.grid(True, alpha=0.3)\n",
    "plt.axvline(\n",
    "    average_steps,\n",
    "    color=\"red\",\n",
    "    linestyle=\"dashed\",\n",
    "    linewidth=1,\n",
    "    label=f\"Average of procedure steps: {average_steps:.2f}\",\n",
    ")\n",
    "plt.legend()\n",
    "plt.xlim(0, x_limit)  # Set consistent x-limits\n",
    "\n",
    "plt.subplot(1, 2, 2)\n",
    "# Filter out procedures with 0 steps for better visualization\n",
    "valid_steps = [count for count in step_counts if count > 0]\n",
    "if valid_steps:\n",
    "    plt.hist(\n",
    "        valid_steps, bins=range(1, max_steps + 2), alpha=0.7, edgecolor=\"black\"\n",
    "    )\n",
    "    plt.title(\"Distribution of Procedure Steps (Valid Procedures Only)\")\n",
    "    plt.xlabel(\"Number of Procedure Steps\")\n",
    "    plt.ylabel(\"Frequency\")\n",
    "    plt.grid(True, alpha=0.3)\n",
    "    plt.axvline(\n",
    "        average_steps_valid,\n",
    "        color=\"red\",\n",
    "        linestyle=\"dashed\",\n",
    "        linewidth=1,\n",
    "        label=f\"Average of procedure steps: {average_steps_valid:.2f}\",\n",
    "    )\n",
    "    plt.legend()\n",
    "    plt.xlim(0, x_limit)  # Set consistent x-limits\n",
    "else:\n",
    "    plt.text(\n",
    "        0.5,\n",
    "        0.5,\n",
    "        \"No valid data to plot\",\n",
    "        horizontalalignment=\"center\",\n",
    "        verticalalignment=\"center\",\n",
    "        transform=plt.gca().transAxes,\n",
    "    )  # Handle case with no valid data\n",
    "    plt.xlim(0, x_limit)\n",
    "\n",
    "\n",
    "plt.tight_layout()\n",
    "plt.show()"
   ]
  },
  {
   "cell_type": "markdown",
   "id": "64",
   "metadata": {
    "id": "ccb4e26e"
   },
   "source": [
    "### **Starting Materials Analysis**\n"
   ]
  },
  {
   "cell_type": "code",
   "execution_count": null,
   "id": "65",
   "metadata": {
    "colab": {
     "base_uri": "https://localhost:8080/"
    },
    "id": "837909b3",
    "outputId": "f9d65a0a-f384-49bd-9999-7b167cfc247d"
   },
   "outputs": [],
   "source": [
    "# Analyze starting materials\n",
    "\n",
    "starting_materials_counts = []\n",
    "all_starting_materials = []\n",
    "\n",
    "\n",
    "def safe_len(obj):\n",
    "    \"\"\"Safely get length of object, handling numpy arrays\"\"\"\n",
    "    if obj is None:\n",
    "        return 0\n",
    "    try:\n",
    "        if isinstance(obj, np.ndarray):\n",
    "            return obj.size\n",
    "        elif hasattr(obj, \"__len__\"):\n",
    "            return len(obj)\n",
    "        else:\n",
    "            return 0\n",
    "    except Exception:\n",
    "        return 0\n",
    "\n",
    "\n",
    "def safe_iterate(obj):\n",
    "    \"\"\"Safely iterate over object, handling numpy arrays\"\"\"\n",
    "    if obj is None:\n",
    "        return []\n",
    "    try:\n",
    "        if isinstance(obj, np.ndarray):\n",
    "            return obj.tolist() if obj.size > 0 else []\n",
    "        elif hasattr(obj, \"__iter__\") and not isinstance(obj, str):\n",
    "            return list(obj)\n",
    "        else:\n",
    "            return []\n",
    "    except Exception:\n",
    "        return []\n",
    "\n",
    "\n",
    "for idx, raw in enumerate(data[\"structured_synthesis\"]):\n",
    "    try:\n",
    "        # Parse the JSON data\n",
    "        record = json.loads(raw) if isinstance(raw, str) else raw\n",
    "\n",
    "        # Extract starting materials from the top level\n",
    "        starting_materials = record.get(\"starting_materials\", [])\n",
    "\n",
    "        # If starting_materials is empty, collect materials from all steps\n",
    "        all_materials_in_procedure = set()  # Use set to avoid duplicates\n",
    "\n",
    "        # Check top-level starting_materials first\n",
    "        for material in safe_iterate(starting_materials):\n",
    "            if isinstance(material, dict) and \"name\" in material:\n",
    "                all_materials_in_procedure.add(material[\"name\"])\n",
    "            elif isinstance(material, str) and material.strip():\n",
    "                all_materials_in_procedure.add(material.strip())\n",
    "\n",
    "        # Extract materials from steps\n",
    "        steps = record.get(\"steps\", [])\n",
    "        for step in safe_iterate(steps):\n",
    "            if isinstance(step, dict) and \"materials\" in step:\n",
    "                step_materials = step[\"materials\"]\n",
    "                for material in safe_iterate(step_materials):\n",
    "                    if isinstance(material, dict) and \"name\" in material:\n",
    "                        material_name = material[\"name\"]\n",
    "                        if material_name and isinstance(material_name, str):\n",
    "                            all_materials_in_procedure.add(\n",
    "                                material_name.strip()\n",
    "                            )\n",
    "\n",
    "        # Count the number of unique materials\n",
    "        num_starting_materials = len(all_materials_in_procedure)\n",
    "        starting_materials_counts.append(num_starting_materials)\n",
    "\n",
    "        # Collect all materials for frequency analysis\n",
    "        for material_name in all_materials_in_procedure:\n",
    "            # Clean the material name\n",
    "            if isinstance(material_name, str):\n",
    "                cleaned_material = re.sub(r\"[^\\w\\s\\-\\(\\)]\", \"\", material_name)\n",
    "                if cleaned_material and cleaned_material.lower() not in [\n",
    "                    \"n/a\",\n",
    "                    \"na\",\n",
    "                    \"none\",\n",
    "                    \"\",\n",
    "                ]:\n",
    "                    all_starting_materials.append(cleaned_material)\n",
    "\n",
    "    except (json.JSONDecodeError, TypeError, AttributeError):\n",
    "        # If parsing fails, append 0\n",
    "        starting_materials_counts.append(0)\n",
    "\n",
    "# Add the starting materials counts as a new column to the dataframe\n",
    "data[\"num_starting_materials\"] = starting_materials_counts\n",
    "\n",
    "# Calculate statistics for starting materials\n",
    "total_procedures_sm = len(starting_materials_counts)\n",
    "valid_procedures_sm = sum(1 for count in starting_materials_counts if count > 0)\n",
    "average_starting_materials = (\n",
    "    sum(starting_materials_counts) / len(starting_materials_counts)\n",
    "    if starting_materials_counts\n",
    "    else 0\n",
    ")\n",
    "average_starting_materials_valid = (\n",
    "    sum(starting_materials_counts) / valid_procedures_sm\n",
    "    if valid_procedures_sm > 0\n",
    "    else 0\n",
    ")\n",
    "\n",
    "print(\"=== Starting Materials Statistics ===\")\n",
    "print(f\"Total synthesis procedures: {total_procedures_sm}\")\n",
    "print(f\"Valid procedures (with starting materials > 0): {valid_procedures_sm}\")\n",
    "print(\n",
    "    f\"Average number of starting materials (all procedures): {average_starting_materials:.2f}\"\n",
    ")\n",
    "print(\n",
    "    f\"Average number of starting materials (valid procedures only): {average_starting_materials_valid:.2f}\"\n",
    ")\n",
    "print(f\"Minimum starting materials: {min(starting_materials_counts)}\")\n",
    "print(f\"Maximum starting materials: {max(starting_materials_counts)}\")\n",
    "\n",
    "# Analyze most common starting materials\n",
    "starting_materials_counter = Counter(all_starting_materials)\n",
    "print(\n",
    "    f\"\\nTotal unique starting materials found: {len(starting_materials_counter)}\"\n",
    ")\n",
    "print(f\"Total starting material instances: {len(all_starting_materials)}\")\n",
    "\n",
    "print(\"\\n=== Top 20 Most Common Starting Materials ===\")\n",
    "for material, count in starting_materials_counter.most_common(20):\n",
    "    print(f\"{material}: {count}\")"
   ]
  },
  {
   "cell_type": "code",
   "execution_count": null,
   "id": "66",
   "metadata": {
    "colab": {
     "base_uri": "https://localhost:8080/",
     "height": 607
    },
    "id": "7c0ef342",
    "outputId": "c4b910aa-ecb9-4eb8-c722-c321b95478d0"
   },
   "outputs": [],
   "source": [
    "# Plot 1: Distribution of number of starting materials\n",
    "plt.figure(figsize=(10, 6))\n",
    "plt.hist(\n",
    "    starting_materials_counts,\n",
    "    bins=range(0, max(starting_materials_counts) + 2),\n",
    "    alpha=0.7,\n",
    "    edgecolor=\"black\",\n",
    ")\n",
    "plt.title(\"Distribution of Number of Starting Materials\")\n",
    "plt.xlabel(\"Number of Starting Materials\")\n",
    "plt.ylabel(\"Frequency\")\n",
    "plt.grid(True, alpha=0.3)\n",
    "plt.axvline(\n",
    "    average_starting_materials,\n",
    "    color=\"red\",\n",
    "    linestyle=\"dashed\",\n",
    "    linewidth=1,\n",
    "    label=f\"Average number of procedure steps: {average_starting_materials:.2f}\",\n",
    ")\n",
    "plt.legend()\n",
    "plt.tight_layout()\n",
    "plt.show()"
   ]
  },
  {
   "cell_type": "code",
   "execution_count": null,
   "id": "67",
   "metadata": {
    "colab": {
     "base_uri": "https://localhost:8080/",
     "height": 607
    },
    "id": "055558e0",
    "outputId": "7cd5e29a-325e-49d1-e625-ec15c212a8e7"
   },
   "outputs": [],
   "source": [
    "# Plot 2: Distribution excluding zero starting materials\n",
    "plt.figure(figsize=(10, 6))\n",
    "valid_sm_counts = [count for count in starting_materials_counts if count > 0]\n",
    "if valid_sm_counts:\n",
    "    # Create bins that start from the minimum valid value\n",
    "    min_materials = min(valid_sm_counts)\n",
    "    max_materials = max(valid_sm_counts)\n",
    "    bins = range(\n",
    "        min_materials, max_materials + 2\n",
    "    )  # +2 because range is exclusive of end\n",
    "\n",
    "    plt.hist(valid_sm_counts, bins=bins, alpha=0.7, edgecolor=\"black\")\n",
    "    plt.title(\"Distribution of Starting Materials (Valid Procedures Only)\")\n",
    "    plt.xlabel(\"Number of Starting Materials\")\n",
    "    plt.ylabel(\"Frequency\")\n",
    "    plt.grid(True, alpha=0.3)\n",
    "    plt.axvline(\n",
    "        average_starting_materials_valid,\n",
    "        color=\"red\",\n",
    "        linestyle=\"dashed\",\n",
    "        linewidth=1,\n",
    "        label=f\"Average number of starting materials: {average_starting_materials_valid:.2f}\",\n",
    "    )\n",
    "    plt.legend()\n",
    "\n",
    "    # Set x-axis to start from the minimum valid value\n",
    "    plt.xlim(left=min_materials - 0.5)\n",
    "    plt.tight_layout()\n",
    "    plt.show()\n",
    "else:\n",
    "    print(\"No valid starting materials data to plot\")"
   ]
  },
  {
   "cell_type": "code",
   "execution_count": null,
   "id": "68",
   "metadata": {
    "colab": {
     "base_uri": "https://localhost:8080/",
     "height": 807
    },
    "id": "99df967a",
    "outputId": "aa4fc050-9d1c-4a36-f579-4371f4ba81c5"
   },
   "outputs": [],
   "source": [
    "# Plot 3: Top N most common starting materials\n",
    "\n",
    "# Define the number of top materials to display\n",
    "N = 15  # You can change this number\n",
    "\n",
    "plt.figure(figsize=(12, 8))\n",
    "\n",
    "# Get the top N most common starting materials\n",
    "top_n_materials = starting_materials_counter.most_common(N)\n",
    "\n",
    "if top_n_materials:\n",
    "    materials, counts = zip(*top_n_materials)\n",
    "    y_pos = range(len(materials))\n",
    "    plt.barh(y_pos, counts, alpha=0.7, color=\"blue\", edgecolor=\"black\")\n",
    "    plt.yticks(y_pos, materials)\n",
    "    plt.xlabel(\"Frequency\")\n",
    "    plt.title(f\"Top {N} Most Common Starting Materials\")  # Update title with N\n",
    "    plt.gca().invert_yaxis()  # Highest at top\n",
    "    plt.grid(True, alpha=0.3, axis=\"x\")\n",
    "    plt.tight_layout()\n",
    "    plt.show()\n",
    "else:\n",
    "    print(\"No starting materials data available for plotting\")"
   ]
  }
 ],
 "metadata": {
  "colab": {
   "provenance": []
  },
  "kernelspec": {
   "display_name": ".venv",
   "language": "python",
   "name": "python3"
  },
  "language_info": {
   "codemirror_mode": {
    "name": "ipython",
    "version": 3
   },
   "file_extension": ".py",
   "mimetype": "text/x-python",
   "name": "python",
   "nbconvert_exporter": "python",
   "pygments_lexer": "ipython3",
   "version": "3.11.12"
  }
 },
 "nbformat": 4,
 "nbformat_minor": 5
}
