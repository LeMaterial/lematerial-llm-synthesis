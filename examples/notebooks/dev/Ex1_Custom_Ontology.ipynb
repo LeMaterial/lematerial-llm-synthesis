{
 "cells": [
  {
   "cell_type": "markdown",
   "id": "0",
   "metadata": {},
   "source": [
    "# Script to\n",
    "\n",
    "- showcase an example where our ontology failed (--> Zaki's example)\n",
    "- add a cusotm ontology (that inherits from genrralsynthesisontology?)\n",
    "- show that performance improves (?)\n"
   ]
  }
 ],
 "metadata": {
  "language_info": {
   "name": "python"
  }
 },
 "nbformat": 4,
 "nbformat_minor": 5
}
