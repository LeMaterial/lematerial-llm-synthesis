{
 "cells": [
  {
   "cell_type": "markdown",
   "id": "0",
   "metadata": {},
   "source": [
    "# Create synthetic data plots and subplots\n",
    "\n",
    "## Generate synthetic plots"
   ]
  },
  {
   "cell_type": "code",
   "execution_count": null,
   "id": "1",
   "metadata": {},
   "outputs": [],
   "source": [
    "from llm_synthesis.services.pipelines.generate_synthetic_plots_pipeline import (\n",
    "    GenerateSyntheticPlotsPipeline,\n",
    ")\n",
    "\n",
    "pipeline = GenerateSyntheticPlotsPipeline(\n",
    "    num_plots=10,\n",
    "    images_path=\"./\",\n",
    "    groundtruths_path=\"./\",\n",
    ")\n",
    "\n",
    "pipeline.run()"
   ]
  },
  {
   "cell_type": "markdown",
   "id": "2",
   "metadata": {},
   "source": [
    "## Display sample image and ground truth data"
   ]
  },
  {
   "cell_type": "code",
   "execution_count": null,
   "id": "3",
   "metadata": {},
   "outputs": [],
   "source": [
    "import json\n",
    "\n",
    "from IPython.display import Image, display\n",
    "\n",
    "\n",
    "def display_data(idx: int):\n",
    "    with open(f\"figure_{idx}.json\") as file:\n",
    "        data = json.load(file)\n",
    "\n",
    "    with open(f\"figure_{idx}.png\", \"rb\") as file:\n",
    "        image = file.read()\n",
    "\n",
    "    display(Image(image))\n",
    "\n",
    "    print(data)\n",
    "\n",
    "    return data, image\n",
    "\n",
    "\n",
    "display_data(0)"
   ]
  },
  {
   "cell_type": "code",
   "execution_count": null,
   "id": "4",
   "metadata": {},
   "outputs": [],
   "source": [
    "display_data(8)"
   ]
  }
 ],
 "metadata": {
  "kernelspec": {
   "display_name": ".venv",
   "language": "python",
   "name": "python3"
  },
  "language_info": {
   "codemirror_mode": {
    "name": "ipython",
    "version": 3
   },
   "file_extension": ".py",
   "mimetype": "text/x-python",
   "name": "python",
   "nbconvert_exporter": "python",
   "pygments_lexer": "ipython3",
   "version": "3.11.12"
  }
 },
 "nbformat": 4,
 "nbformat_minor": 5
}
