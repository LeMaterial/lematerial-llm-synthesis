{
 "cells": [
  {
   "cell_type": "markdown",
   "id": "0",
   "metadata": {},
   "source": [
    "# Create synthetic data plots and subplots"
   ]
  },
  {
   "cell_type": "code",
   "execution_count": null,
   "id": "1",
   "metadata": {},
   "outputs": [],
   "source": [
    "from llm_synthesis.services.pipelines.generate_synthetic_plots_pipeline import (\n",
    "    GenerateSyntheticPlotsPipeline,\n",
    ")\n",
    "\n",
    "pipeline = GenerateSyntheticPlotsPipeline(\n",
    "    num_plots=10,\n",
    "    images_path=\"./\",\n",
    "    groundtruths_path=\"./\",\n",
    ")\n",
    "\n",
    "pipeline.run()"
   ]
  }
 ],
 "metadata": {
  "kernelspec": {
   "display_name": ".venv",
   "language": "python",
   "name": "python3"
  },
  "language_info": {
   "codemirror_mode": {
    "name": "ipython",
    "version": 3
   },
   "file_extension": ".py",
   "mimetype": "text/x-python",
   "name": "python",
   "nbconvert_exporter": "python",
   "pygments_lexer": "ipython3",
   "version": "3.11.12"
  }
 },
 "nbformat": 4,
 "nbformat_minor": 5
}
