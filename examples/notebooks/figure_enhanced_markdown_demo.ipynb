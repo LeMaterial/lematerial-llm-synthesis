{
 "cells": [
  {
   "cell_type": "markdown",
   "metadata": {},
   "source": [
    "# Enhanced Markdown Processing with Figure Descriptions\n",
    "This notebook demonstrates how to extract markdown from PDFs and enrich it with AI-generated figure descriptions"
   ]
  },
  {
   "cell_type": "markdown",
   "metadata": {},
   "source": [
    "## Imports"
   ]
  },
  {
   "cell_type": "code",
   "execution_count": null,
   "metadata": {},
   "outputs": [],
   "source": [
    "from IPython.display import Markdown, display\n",
    "from llm_synthesis.utils import extract_markdown, process_paper_with_figure_descriptions\n",
    "from dotenv import load_dotenv\n",
    "load_dotenv(override=True)"
   ]
  },
  {
   "cell_type": "markdown",
   "metadata": {},
   "source": [
    "## Set Paths"
   ]
  },
  {
   "cell_type": "code",
   "execution_count": 2,
   "metadata": {},
   "outputs": [],
   "source": [
    "MAIN_PDF_PATH = \"/Users/siddharthbetala/Desktop/llm-synthesis/data/pdf_papers/1706.03762v7.pdf\"  # Update this path!\n",
    "SI_PDF_PATH = None  # Optional - set to None if not available"
   ]
  },
  {
   "cell_type": "markdown",
   "metadata": {},
   "source": [
    "## Basic Markdown Extraction (Without Figure Descriptions)"
   ]
  },
  {
   "cell_type": "code",
   "execution_count": 3,
   "metadata": {},
   "outputs": [],
   "source": [
    "basic_markdown = extract_markdown(\n",
    "    pdf_path=MAIN_PDF_PATH,\n",
    "    engine=\"mistral\",  # Use Mistral for extraction\n",
    "    image_mode=\"embedded\",  # Keep images embedded for figure analysis\n",
    "    save_markdown=False,  # Don't save yet - we'll enhance it first\n",
    ")"
   ]
  },
  {
   "cell_type": "code",
   "execution_count": null,
   "metadata": {},
   "outputs": [],
   "source": [
    "display(Markdown(basic_markdown))"
   ]
  },
  {
   "cell_type": "markdown",
   "metadata": {},
   "source": [
    "## Enhanced Processing with Figure Descriptions"
   ]
  },
  {
   "cell_type": "code",
   "execution_count": null,
   "metadata": {},
   "outputs": [],
   "source": [
    "enhanced_markdown = process_paper_with_figure_descriptions(\n",
    "    pdf_path=MAIN_PDF_PATH,\n",
    "    si_pdf_path=SI_PDF_PATH,  # Optional supporting info\n",
    "    engine=\"mistral\",  # PDF extraction engine\n",
    "    llm_name=\"gpt-4o-mini\",  # LLM for figure descriptions (cost-effective)\n",
    "    model_kwargs={\n",
    "        \"temperature\": 0.1,  # Low temperature for consistent descriptions\n",
    "        \"max_tokens\": 3000,  # Sufficient tokens for detailed descriptions\n",
    "    },\n",
    "    root_dir=None,\n",
    "    save_output=False,\n",
    ")"
   ]
  },
  {
   "cell_type": "code",
   "execution_count": null,
   "metadata": {},
   "outputs": [],
   "source": [
    "display(Markdown(enhanced_markdown))"
   ]
  },
  {
   "cell_type": "code",
   "execution_count": null,
   "metadata": {},
   "outputs": [],
   "source": []
  }
 ],
 "metadata": {
  "kernelspec": {
   "display_name": ".venv",
   "language": "python",
   "name": "python3"
  },
  "language_info": {
   "codemirror_mode": {
    "name": "ipython",
    "version": 3
   },
   "file_extension": ".py",
   "mimetype": "text/x-python",
   "name": "python",
   "nbconvert_exporter": "python",
   "pygments_lexer": "ipython3",
   "version": "3.11.11"
  }
 },
 "nbformat": 4,
 "nbformat_minor": 2
}
