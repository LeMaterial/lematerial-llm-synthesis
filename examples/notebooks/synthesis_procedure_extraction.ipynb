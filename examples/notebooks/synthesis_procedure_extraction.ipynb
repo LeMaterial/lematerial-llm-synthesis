{
 "cells": [
  {
   "cell_type": "markdown",
   "metadata": {},
   "source": [
    "# Synthesis procedure extraction with LLMs from a parsed PDF\n",
    "\n",
    "We will use [DSPy](github.com/stanfordNLP/dspy) for prompting LLMs. DSPy is a framework for creating \"prompting architectures/modules\" and \"signatures\" for sterring the behavior of LLMs. Our end goal is to find an optimal configuration of LLMs *types*, modules, signatures, prompts and evaluation metrics! The purpose of this script is to show the basic functionality of DSPy in the context of this project.\n",
    "\n",
    "The workflow is: "
   ]
  },
  {
   "cell_type": "code",
   "execution_count": null,
   "metadata": {},
   "outputs": [],
   "source": [
    "# Configure DSPy with a LLM\n",
    "from llm_synthesis.utils import configure_dspy\n",
    "\n",
    "configure_dspy(\n",
    "    lm=\"gpt-4o-mini\",\n",
    "    model_kwargs={\"temperature\": 0.0},\n",
    ")"
   ]
  },
  {
   "cell_type": "markdown",
   "metadata": {},
   "source": [
    "## Building simple programs\n",
    "A \"program\" or \"module\" in DSPy denotes a \"module\" (in this case: `dspy.Predict`) and a \"signature\" (in this case: `question->answer`). By calling the created module `predictor` with `question=<insert-question-here>`, we get a Prediction object that contains `answer` as a key.\n",
    "\n"
   ]
  },
  {
   "cell_type": "code",
   "execution_count": null,
   "metadata": {},
   "outputs": [],
   "source": []
  },
  {
   "cell_type": "markdown",
   "metadata": {},
   "source": [
    "# Synthesis procedure extraction with LLMs from a parsed PDF\n",
    "\n",
    "We will use [DSPy](github.com/stanfordNLP/dspy) for prompting LLMs. DSPy is a framework for creating \"prompting architectures/modules\" and \"signatures\" for sterring the behavior of LLMs. Our end goal is to find an optimal configuration of LLMs *types*, modules, signatures, prompts and evaluation metrics! The purpose of this script is to show the basic functionality of DSPy in the context of this project.\n",
    "\n",
    "The workflow is: "
   ]
  },
  {
   "cell_type": "code",
   "execution_count": null,
   "metadata": {},
   "outputs": [],
   "source": [
    "# Configure DSPy with a LLM\n",
    "from llm_synthesis.utils import configure_dspy\n",
    "\n",
    "configure_dspy(\n",
    "    lm=\"gpt-4o-mini\",\n",
    "    model_kwargs={\"temperature\": 0.0},\n",
    ")"
   ]
  },
  {
   "cell_type": "markdown",
   "metadata": {},
   "source": [
    "## Load extracted markdown data\n",
    "\n",
    "cf. `notebooks/pdf_extraction.ipynb`"
   ]
  },
  {
   "cell_type": "code",
   "execution_count": null,
   "metadata": {},
   "outputs": [],
   "source": [
    "# From local files\n",
    "\n",
    "txt_file = \"<path_to_save_extracted_text>\"\n",
    "\n",
    "# From google storage\n",
    "\n",
    "txt_file = \"gs://<bucket-name>/<path_to_save_extracted_text>\""
   ]
  },
  {
   "cell_type": "code",
   "execution_count": null,
   "metadata": {},
   "outputs": [],
   "source": [
    "txt_file = (\n",
    "    \"/Users/mlederbau/llm-synthesis/data/txt_papers/mistral/Zhou_2023_constructing.txt\"\n",
    ")"
   ]
  },
  {
   "cell_type": "code",
   "execution_count": null,
   "metadata": {},
   "outputs": [],
   "source": [
    "# Load and displaythe data\n",
    "from IPython.display import Markdown\n",
    "from llm_synthesis.services.storage.local_file_storage import LocalFileStorage\n",
    "\n",
    "storage = LocalFileStorage()\n",
    "markdown_text = storage.read_bytes(file_path=txt_file).decode(\"utf-8\")\n",
    "\n",
    "Markdown(markdown_text)"
   ]
  },
  {
   "cell_type": "markdown",
   "metadata": {},
   "source": [
    "## Building simple programs\n",
    "A \"program\" or \"module\" in DSPy denotes a \"module\" (in this case: `dspy.Predict`) and a \"signature\" (in this case: `question->answer`). By calling the created module `predictor` with `question=<insert-question-here>`, we get a Prediction object that contains `answer` as a key."
   ]
  },
  {
   "cell_type": "code",
   "execution_count": null,
   "metadata": {},
   "outputs": [],
   "source": [
    "import dspy\n",
    "\n",
    "predictor = dspy.Predict(\"question->answer\")\n",
    "\n",
    "predictor(question=\"who are you?\")"
   ]
  },
  {
   "cell_type": "code",
   "execution_count": null,
   "metadata": {},
   "outputs": [],
   "source": [
    "### Extract synthesis paragraph\n",
    "from llm_synthesis.extraction.text import ParagraphParser\n",
    "\n",
    "paragraph_parser = ParagraphParser()\n",
    "prediction = paragraph_parser(publication_text=markdown_text)\n",
    "synthesis_paragraph = prediction[\"synthesis_paragraphs\"]\n",
    "synthesis_paragraph"
   ]
  },
  {
   "cell_type": "code",
   "execution_count": null,
   "metadata": {},
   "outputs": [],
   "source": [
    "### Extract structured synthesis procedure\n",
    "from llm_synthesis.extraction.synthesis import StructuredSynthesisParser\n",
    "\n",
    "structure_parser = StructuredSynthesisParser()\n",
    "prediction = structure_parser(synthesis_procedure=synthesis_paragraph)\n",
    "structured_synthesis_procedure = prediction[\"structured_synthesis_procedure\"]\n",
    "structured_synthesis_procedure"
   ]
  },
  {
   "cell_type": "code",
   "execution_count": null,
   "metadata": {},
   "outputs": [],
   "source": [
    "print(f\"Entry ID: {structured_synthesis_procedure.id}\")\n",
    "print(\"\\n\")\n",
    "print(f\"Compound Name: {structured_synthesis_procedure.target_compound}\")\n",
    "print(\"\\n\")\n",
    "print(f\"Materials: {structured_synthesis_procedure.materials}\")\n",
    "print(\"\\n\")\n",
    "print(f\"Steps: {structured_synthesis_procedure.steps}\")\n",
    "print(\"\\n\")\n",
    "print(\"Conditions:\")\n",
    "for process_step in structured_synthesis_procedure.steps:\n",
    "    print(f\"  {process_step.action}:\")\n",
    "    print(f\"    Materials: {process_step.materials}\")\n",
    "    print(f\"    Conditions: {process_step.conditions}\")\n",
    "    print(\"\\n\")"
   ]
  },
  {
   "cell_type": "code",
   "execution_count": null,
   "metadata": {},
   "outputs": [],
   "source": []
  }
 ],
 "metadata": {
  "kernelspec": {
   "display_name": ".venv",
   "language": "python",
   "name": "python3"
  },
  "language_info": {
   "codemirror_mode": {
    "name": "ipython",
    "version": 3
   },
   "file_extension": ".py",
   "mimetype": "text/x-python",
   "name": "python",
   "nbconvert_exporter": "python",
   "pygments_lexer": "ipython3",
   "version": "3.11.12"
  }
 },
 "nbformat": 4,
 "nbformat_minor": 2
}
