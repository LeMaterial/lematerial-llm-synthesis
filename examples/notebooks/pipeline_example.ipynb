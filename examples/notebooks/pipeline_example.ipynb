{
 "cells": [
  {
   "cell_type": "code",
   "execution_count": null,
   "metadata": {},
   "outputs": [],
   "source": [
    "# Imports\n",
    "import dotenv\n",
    "from IPython.display import Markdown, display\n",
    "\n",
    "dotenv.load_dotenv()"
   ]
  },
  {
   "cell_type": "markdown",
   "metadata": {},
   "source": [
    "# Extract the text from the pdf\n"
   ]
  },
  {
   "cell_type": "markdown",
   "metadata": {},
   "source": [
    "To extract the text from the pdf, we can use any implementation of the `PdfExtractorInterface` class. and pass the pdf data as bytes to the `extract` method.\n",
    "\n",
    "```python\n",
    "class PdfExtractorImplementation(PdfExtractorInterface):\n",
    "    def forward(self, input: bytes) -> str:\n",
    "        return \"Hello, world!\"\n",
    "\n",
    "pdf_extractor = PdfExtractorImplementation()\n",
    "text = pdf_extractor.forward(pdf_data)\n",
    "```\n",
    "\n",
    "These implementations are available in the `llm_synthesis.transformers.pdf_extraction` module.\n",
    "\n",
    "- `DoclingPDFExtractor`\n",
    "- `MistralPDFExtractor`\n"
   ]
  },
  {
   "cell_type": "markdown",
   "metadata": {
    "vscode": {
     "languageId": "plaintext"
    }
   },
   "source": [
    "## DoclingPDFExtractor\n",
    "\n",
    "Extract Data locally with Docling\n"
   ]
  },
  {
   "cell_type": "code",
   "execution_count": null,
   "metadata": {},
   "outputs": [],
   "source": [
    "from llm_synthesis.transformers.pdf_extraction import DoclingPDFExtractor\n",
    "\n",
    "with open(\"../data/pdf_papers/test.pdf\", \"rb\") as f:\n",
    "    pdf_data = f.read()\n",
    "\n",
    "pdf_extractor = DoclingPDFExtractor(\n",
    "    pipeline=\"standard\",\n",
    "    table_mode=\"accurate\",\n",
    "    add_page_images=False,\n",
    "    use_gpu=True,\n",
    "    scale=2.0,\n",
    "    format=\"markdown\",\n",
    ")\n",
    "docling_extracted_text = pdf_extractor.forward(pdf_data)"
   ]
  },
  {
   "cell_type": "code",
   "execution_count": null,
   "metadata": {},
   "outputs": [],
   "source": [
    "display(Markdown(docling_extracted_text))"
   ]
  },
  {
   "cell_type": "code",
   "execution_count": null,
   "metadata": {},
   "outputs": [],
   "source": [
    "# Let's save that for later\n",
    "\n",
    "with open(\"../data/txt_papers/docling/test.md\", \"w+\") as f:\n",
    "    f.write(docling_extracted_text)"
   ]
  },
  {
   "cell_type": "markdown",
   "metadata": {},
   "source": [
    "## MistralPDFExtractor\n",
    "\n",
    "Extract Data with Mistral.\n",
    "\n",
    "NB: You need to have a mistral account and a valid API key.\n"
   ]
  },
  {
   "cell_type": "code",
   "execution_count": null,
   "metadata": {},
   "outputs": [],
   "source": [
    "import dotenv\n",
    "\n",
    "from llm_synthesis.transformers.pdf_extraction import MistralPDFExtractor\n",
    "\n",
    "with open(\"../data/pdf_papers/test.pdf\", \"rb\") as f:\n",
    "    pdf_data = f.read()\n",
    "\n",
    "pdf_extractor = MistralPDFExtractor(\n",
    "    structured=False\n",
    ")  # You can set the api key as an argument or in the environment variable MISTRAL_API_KEY (use a .env file)\n",
    "mistral_extracted_text = pdf_extractor.forward(pdf_data)"
   ]
  },
  {
   "cell_type": "markdown",
   "metadata": {},
   "source": []
  },
  {
   "cell_type": "code",
   "execution_count": null,
   "metadata": {},
   "outputs": [],
   "source": [
    "display(Markdown(mistral_extracted_text))"
   ]
  },
  {
   "cell_type": "code",
   "execution_count": null,
   "metadata": {},
   "outputs": [],
   "source": [
    "# Let's save that for later\n",
    "\n",
    "with open(\"../data/txt_papers/mistral/test.md\", \"w+\") as f:\n",
    "    f.write(mistral_extracted_text)"
   ]
  },
  {
   "cell_type": "code",
   "execution_count": null,
   "metadata": {},
   "outputs": [],
   "source": [
    "# Let's make it a paper object\n",
    "from llm_synthesis.models.paper import Paper\n",
    "\n",
    "paper = Paper(\n",
    "    id=\"test\", name=\"test\", publication_text=mistral_extracted_text, si_text=\"\"\n",
    ")\n",
    "paper.publication_text"
   ]
  },
  {
   "cell_type": "markdown",
   "metadata": {},
   "source": [
    "# Extract text from a markdown text\n"
   ]
  },
  {
   "cell_type": "markdown",
   "metadata": {},
   "source": [
    "These functions are available in the `llm_synthesis.transformers.text_extraction` module. From which you can extract any arbitrary text from the publication text.\n",
    "\n",
    "We currently use dspy to extract text from a markdown text.\n",
    "\n",
    "Here are a few examples of how to use it.\n"
   ]
  },
  {
   "cell_type": "code",
   "execution_count": null,
   "metadata": {},
   "outputs": [],
   "source": [
    "from llm_synthesis.utils.dspy_utils import get_llm_from_name\n",
    "from llm_synthesis.utils.markdown_utils import remove_figs\n",
    "\n",
    "# Let's first remove the figures from the publication text\n",
    "paper = Paper(\n",
    "    id=\"test\",\n",
    "    name=\"test\",\n",
    "    publication_text=remove_figs(mistral_extracted_text),\n",
    "    si_text=\"\",\n",
    ")\n",
    "paper.publication_text"
   ]
  },
  {
   "cell_type": "markdown",
   "metadata": {},
   "source": [
    "The goal of the signature is to provide the llm context on what is its actual task.\n"
   ]
  },
  {
   "cell_type": "markdown",
   "metadata": {},
   "source": [
    "# Extract Structured Data from the publication\n",
    "\n",
    "These functions are available in the `llm_synthesis.transformers.structured_data_extraction` module. From which you can extract any arbitrary structured data from the publication text.\n",
    "\n",
    "We currently use dspy to extract structured data from a markdown text.\n",
    "\n",
    "Here are a few examples of how to use it.\n"
   ]
  },
  {
   "cell_type": "code",
   "execution_count": null,
   "metadata": {},
   "outputs": [],
   "source": [
    "from llm_synthesis.transformers.synthesis_extraction import (\n",
    "    DspyStructuredSynthesisExtractor,\n",
    "    make_dspy_structured_synthesis_extractor_signature,\n",
    ")\n",
    "\n",
    "# Let's make a signature for the structured data extraction\n",
    "signature = make_dspy_structured_synthesis_extractor_signature(\n",
    "    signature_name=\"ExtractStructuredSynthesis\",\n",
    "    instructions=\"Extract the structured synthesis from the publication text.\",\n",
    "    input_description=\"The publication text to extract the structured synthesis from.\",\n",
    "    output_name=\"structured_synthesis\",\n",
    "    output_description=\"The extracted structured synthesis.\",\n",
    ")\n",
    "\n",
    "lm = get_llm_from_name(\"gemini-2.0-flash\", {\"temperature\": 0.0})\n",
    "# Let's make a structured data extractor\n",
    "structured_data_extractor = DspyStructuredSynthesisExtractor(signature, lm)\n",
    "\n",
    "input = paper.publication_text + paper.si_text\n",
    "\n",
    "# Let's extract the structured data\n",
    "structured_data = structured_data_extractor.forward(input)\n",
    "\n",
    "structured_data"
   ]
  },
  {
   "cell_type": "code",
   "execution_count": null,
   "metadata": {},
   "outputs": [],
   "source": [
    "# save as json model dump\n",
    "import json\n",
    "\n",
    "with open(\n",
    "    \"../data/test.json\",\n",
    "    \"w\",\n",
    ") as f:\n",
    "    json.dump(structured_data.model_dump(), f, indent=2)"
   ]
  },
  {
   "cell_type": "code",
   "execution_count": null,
   "metadata": {},
   "outputs": [],
   "source": [
    "keys = structured_data.model_dump().keys()\n",
    "\n",
    "for key in keys:\n",
    "    print(key)\n",
    "    print(structured_data.model_dump()[key])"
   ]
  },
  {
   "cell_type": "code",
   "execution_count": null,
   "metadata": {},
   "outputs": [],
   "source": [
    "for step in structured_data.steps:\n",
    "    print(f\"Action: {step.action}\")\n",
    "    print(f\"Description: {step.description}\")\n",
    "    for material in step.materials:\n",
    "        print(f\"Material: {material.name} {material.amount} {material.unit}\")\n",
    "    print(f\"Conditions: {step.conditions}\")\n",
    "    print(\"-\" * 100)"
   ]
  },
  {
   "cell_type": "code",
   "execution_count": null,
   "metadata": {},
   "outputs": [],
   "source": [
    "from llm_synthesis.utils.markdown_utils import remove_figs\n",
    "\n",
    "with open(\"../data/txt_papers/mistral/test.md\") as f:\n",
    "    publication_text = f.read()\n",
    "\n",
    "publication_text = remove_figs(publication_text)\n",
    "\n",
    "# Let's extract the structured data\n",
    "structured_data_from_publication_text = structured_data_extractor.forward(\n",
    "    publication_text\n",
    ")\n",
    "\n",
    "structured_data_from_publication_text"
   ]
  },
  {
   "cell_type": "markdown",
   "metadata": {},
   "source": [
    "# Extract figures from the publication text\n",
    "\n",
    "These functions are available in the `llm_synthesis.transformers.figure_extraction` module. From which you can extract any arbitrary figures from the publication text.\n",
    "\n",
    "We currently expect the pdf_parser to embed figures in the markdown text to be able to extract figures from a markdown text.\n"
   ]
  },
  {
   "cell_type": "code",
   "execution_count": null,
   "metadata": {},
   "outputs": [],
   "source": [
    "from llm_synthesis.transformers.figure_extraction import (\n",
    "    FigureExtractorMarkdown,\n",
    ")\n",
    "\n",
    "figure_extractor = FigureExtractorMarkdown()\n",
    "\n",
    "with open(\"../data/txt_papers/mistral/test.md\") as f:\n",
    "    publication_text = f.read()\n",
    "\n",
    "figures = figure_extractor.forward(publication_text)\n",
    "\n",
    "figures"
   ]
  },
  {
   "cell_type": "code",
   "execution_count": null,
   "metadata": {},
   "outputs": [],
   "source": [
    "# Let's print the first figure\n",
    "\n",
    "import base64\n",
    "\n",
    "from IPython.display import Image\n",
    "\n",
    "# Convert base64 string to image and display\n",
    "Image(base64.b64decode(figures[0].base64_data))"
   ]
  },
  {
   "cell_type": "code",
   "execution_count": null,
   "metadata": {},
   "outputs": [],
   "source": [
    "print(\"alt_text: \", figures[0].alt_text)\n",
    "print(\"context_before: \", figures[0].context_before)\n",
    "print(\"context_after: \", figures[0].context_after)\n",
    "print(\"figure_reference: \", figures[0].figure_reference)\n",
    "print(\"position: \", figures[0].position)"
   ]
  },
  {
   "cell_type": "markdown",
   "metadata": {},
   "source": [
    "# Extract figure descriptions from the publication text\n",
    "\n",
    "These functions are available in the `llm_synthesis.transformers.figure_description` module. From which you can get figure descriptions from the publication text and figure info.\n",
    "\n",
    "The current implementation uses dspy to get figure descriptions from the publication text and figure info.\n"
   ]
  },
  {
   "cell_type": "code",
   "execution_count": null,
   "metadata": {},
   "outputs": [],
   "source": [
    "from llm_synthesis.models.figure import FigureInfoWithPaper\n",
    "from llm_synthesis.transformers.figure_description import (\n",
    "    DspyFigureDescriptionExtractor,\n",
    "    make_dspy_figure_description_extractor_signature,\n",
    ")\n",
    "from llm_synthesis.utils.dspy_utils import get_llm_from_name\n",
    "from llm_synthesis.utils.markdown_utils import remove_figs\n",
    "\n",
    "# Let's make a signature for the figure description extraction\n",
    "signature = make_dspy_figure_description_extractor_signature(\n",
    "    signature_name=\"DspyFigureDescriptionExtractorSignature\",\n",
    "    instructions=\"Extract the figure description from the figure.\",\n",
    "    publication_text_description=\"The publication text to extract the figure description from.\",\n",
    "    si_text_description=\"The supporting information text to extract the figure description from.\",\n",
    "    figure_base64_description=\"The base64 encoded image of the figure to extract the description from.\",\n",
    "    caption_context_description=\"The text context surrounding the figure position including the figure caption and nearby paragraphs that reference this figure.\",\n",
    "    figure_position_info_description=\"The information about the figure's position in the document (e.g., 'Figure 2', 'Fig. 3a', 'Scheme 1') to help with contextual understanding.\",\n",
    "    figure_description_description=\"The extracted figure description.\",\n",
    ")\n",
    "\n",
    "lm = get_llm_from_name(\"gpt-4o-mini\", {\"temperature\": 0.0})\n",
    "\n",
    "with open(\"../data/txt_papers/mistral/test.md\") as f:\n",
    "    publication_text = f.read()\n",
    "\n",
    "publication_text = remove_figs(publication_text)\n",
    "\n",
    "figure_info_with_paper = FigureInfoWithPaper(\n",
    "    **figures[2].__dict__,\n",
    "    paper_text=publication_text,\n",
    "    si_text=\"\",\n",
    ")\n",
    "\n",
    "figure_description_extractor = DspyFigureDescriptionExtractor(signature, lm)\n",
    "\n",
    "figure_description = figure_description_extractor.forward(\n",
    "    figure_info_with_paper\n",
    ")\n",
    "\n",
    "figure_description"
   ]
  }
 ],
 "metadata": {
  "kernelspec": {
   "display_name": ".venv",
   "language": "python",
   "name": "python3"
  },
  "language_info": {
   "codemirror_mode": {
    "name": "ipython",
    "version": 3
   },
   "file_extension": ".py",
   "mimetype": "text/x-python",
   "name": "python",
   "nbconvert_exporter": "python",
   "pygments_lexer": "ipython3",
   "version": "3.11.12"
  }
 },
 "nbformat": 4,
 "nbformat_minor": 2
}
